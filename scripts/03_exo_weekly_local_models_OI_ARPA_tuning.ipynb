{
  "cells": [
    {
      "cell_type": "markdown",
      "metadata": {
        "id": "6bg-DEda2xXf"
      },
      "source": [
        "# Nootebok description\n",
        "\n",
        "In this script **local models** for each water table sensor are trained.  The seq2val (many-to-one) scenario is considered, in which *T* past weeks of weather raster images are used to predict the water table depth at a time step *t*\n",
        "\n",
        "For these aim hybrid models are considered, in which the first part is a Time Distributed CNN (TDC) and then second part is a sequential model. Here 2 types of sequential models are compared: The first based on a ***LSTM*** layer; the second based on the ***UnPWaveNet*** which is a new proposed verios of the WaveNet for outputing sequence shorter and completely shifted in the future (no causal constraint) .\n",
        "\n",
        "This script has been used for manual grid search of the hyperparameter and for building the architectures. While the same architecture are adopted identically for each sensors, the hyperparameters are tuned for each local model.\n",
        "\n",
        "***PS: also in this case, all the procedures and functions have been built in a general way adaptable for a many-to-many scenario***  "
      ]
    },
    {
      "cell_type": "code",
      "execution_count": null,
      "metadata": {
        "colab": {
          "base_uri": "https://localhost:8080/"
        },
        "id": "aidkHOno_eKC",
        "outputId": "387f2c12-b337-46c6-e43a-acc6e04b3a13"
      },
      "outputs": [
        {
          "output_type": "stream",
          "name": "stdout",
          "text": [
            "Python 3.10.12\n"
          ]
        }
      ],
      "source": [
        "!python --version # Python 3.10.12"
      ]
    },
    {
      "cell_type": "markdown",
      "metadata": {
        "id": "oNgp1UrSNPDG"
      },
      "source": [
        "# Libraries, Settings, and Directories"
      ]
    },
    {
      "cell_type": "code",
      "execution_count": null,
      "metadata": {
        "id": "AzogWivIqRY4",
        "colab": {
          "base_uri": "https://localhost:8080/"
        },
        "outputId": "d51d99cb-71a8-4b8f-be4a-d0d3237931a4"
      },
      "outputs": [
        {
          "output_type": "stream",
          "name": "stdout",
          "text": [
            "Requirement already satisfied: numpy==1.25.2 in /usr/local/lib/python3.10/dist-packages (1.25.2)\n",
            "Collecting rioxarray==0.15.5\n",
            "  Downloading rioxarray-0.15.5-py3-none-any.whl (60 kB)\n",
            "\u001b[2K     \u001b[90m━━━━━━━━━━━━━━━━━━━━━━━━━━━━━━━━━━━━━━━━\u001b[0m \u001b[32m60.5/60.5 kB\u001b[0m \u001b[31m1.4 MB/s\u001b[0m eta \u001b[36m0:00:00\u001b[0m\n",
            "\u001b[?25hRequirement already satisfied: packaging in /usr/local/lib/python3.10/dist-packages (from rioxarray==0.15.5) (24.1)\n",
            "Collecting rasterio>=1.3 (from rioxarray==0.15.5)\n",
            "  Downloading rasterio-1.3.10-cp310-cp310-manylinux2014_x86_64.whl (21.5 MB)\n",
            "\u001b[2K     \u001b[90m━━━━━━━━━━━━━━━━━━━━━━━━━━━━━━━━━━━━━━━━\u001b[0m \u001b[32m21.5/21.5 MB\u001b[0m \u001b[31m41.2 MB/s\u001b[0m eta \u001b[36m0:00:00\u001b[0m\n",
            "\u001b[?25hRequirement already satisfied: xarray>=2022.3.0 in /usr/local/lib/python3.10/dist-packages (from rioxarray==0.15.5) (2023.7.0)\n",
            "Requirement already satisfied: pyproj>=3.3 in /usr/local/lib/python3.10/dist-packages (from rioxarray==0.15.5) (3.6.1)\n",
            "Requirement already satisfied: numpy>=1.23 in /usr/local/lib/python3.10/dist-packages (from rioxarray==0.15.5) (1.25.2)\n",
            "Requirement already satisfied: certifi in /usr/local/lib/python3.10/dist-packages (from pyproj>=3.3->rioxarray==0.15.5) (2024.7.4)\n",
            "Collecting affine (from rasterio>=1.3->rioxarray==0.15.5)\n",
            "  Downloading affine-2.4.0-py3-none-any.whl (15 kB)\n",
            "Requirement already satisfied: attrs in /usr/local/lib/python3.10/dist-packages (from rasterio>=1.3->rioxarray==0.15.5) (23.2.0)\n",
            "Requirement already satisfied: click>=4.0 in /usr/local/lib/python3.10/dist-packages (from rasterio>=1.3->rioxarray==0.15.5) (8.1.7)\n",
            "Requirement already satisfied: cligj>=0.5 in /usr/local/lib/python3.10/dist-packages (from rasterio>=1.3->rioxarray==0.15.5) (0.7.2)\n",
            "Collecting snuggs>=1.4.1 (from rasterio>=1.3->rioxarray==0.15.5)\n",
            "  Downloading snuggs-1.4.7-py3-none-any.whl (5.4 kB)\n",
            "Requirement already satisfied: click-plugins in /usr/local/lib/python3.10/dist-packages (from rasterio>=1.3->rioxarray==0.15.5) (1.1.1)\n",
            "Requirement already satisfied: setuptools in /usr/local/lib/python3.10/dist-packages (from rasterio>=1.3->rioxarray==0.15.5) (67.7.2)\n",
            "Requirement already satisfied: pandas>=1.4 in /usr/local/lib/python3.10/dist-packages (from xarray>=2022.3.0->rioxarray==0.15.5) (2.0.3)\n",
            "Requirement already satisfied: python-dateutil>=2.8.2 in /usr/local/lib/python3.10/dist-packages (from pandas>=1.4->xarray>=2022.3.0->rioxarray==0.15.5) (2.8.2)\n",
            "Requirement already satisfied: pytz>=2020.1 in /usr/local/lib/python3.10/dist-packages (from pandas>=1.4->xarray>=2022.3.0->rioxarray==0.15.5) (2023.4)\n",
            "Requirement already satisfied: tzdata>=2022.1 in /usr/local/lib/python3.10/dist-packages (from pandas>=1.4->xarray>=2022.3.0->rioxarray==0.15.5) (2024.1)\n",
            "Requirement already satisfied: pyparsing>=2.1.6 in /usr/local/lib/python3.10/dist-packages (from snuggs>=1.4.1->rasterio>=1.3->rioxarray==0.15.5) (3.1.2)\n",
            "Requirement already satisfied: six>=1.5 in /usr/local/lib/python3.10/dist-packages (from python-dateutil>=2.8.2->pandas>=1.4->xarray>=2022.3.0->rioxarray==0.15.5) (1.16.0)\n",
            "Installing collected packages: snuggs, affine, rasterio, rioxarray\n",
            "Successfully installed affine-2.4.0 rasterio-1.3.10 rioxarray-0.15.5 snuggs-1.4.7\n",
            "Requirement already satisfied: matplotlib==3.7.1 in /usr/local/lib/python3.10/dist-packages (3.7.1)\n",
            "Requirement already satisfied: contourpy>=1.0.1 in /usr/local/lib/python3.10/dist-packages (from matplotlib==3.7.1) (1.2.1)\n",
            "Requirement already satisfied: cycler>=0.10 in /usr/local/lib/python3.10/dist-packages (from matplotlib==3.7.1) (0.12.1)\n",
            "Requirement already satisfied: fonttools>=4.22.0 in /usr/local/lib/python3.10/dist-packages (from matplotlib==3.7.1) (4.53.1)\n",
            "Requirement already satisfied: kiwisolver>=1.0.1 in /usr/local/lib/python3.10/dist-packages (from matplotlib==3.7.1) (1.4.5)\n",
            "Requirement already satisfied: numpy>=1.20 in /usr/local/lib/python3.10/dist-packages (from matplotlib==3.7.1) (1.25.2)\n",
            "Requirement already satisfied: packaging>=20.0 in /usr/local/lib/python3.10/dist-packages (from matplotlib==3.7.1) (24.1)\n",
            "Requirement already satisfied: pillow>=6.2.0 in /usr/local/lib/python3.10/dist-packages (from matplotlib==3.7.1) (9.4.0)\n",
            "Requirement already satisfied: pyparsing>=2.3.1 in /usr/local/lib/python3.10/dist-packages (from matplotlib==3.7.1) (3.1.2)\n",
            "Requirement already satisfied: python-dateutil>=2.7 in /usr/local/lib/python3.10/dist-packages (from matplotlib==3.7.1) (2.8.2)\n",
            "Requirement already satisfied: six>=1.5 in /usr/local/lib/python3.10/dist-packages (from python-dateutil>=2.7->matplotlib==3.7.1) (1.16.0)\n",
            "Requirement already satisfied: xarray==2023.7.0 in /usr/local/lib/python3.10/dist-packages (2023.7.0)\n",
            "Requirement already satisfied: numpy>=1.21 in /usr/local/lib/python3.10/dist-packages (from xarray==2023.7.0) (1.25.2)\n",
            "Requirement already satisfied: pandas>=1.4 in /usr/local/lib/python3.10/dist-packages (from xarray==2023.7.0) (2.0.3)\n",
            "Requirement already satisfied: packaging>=21.3 in /usr/local/lib/python3.10/dist-packages (from xarray==2023.7.0) (24.1)\n",
            "Requirement already satisfied: python-dateutil>=2.8.2 in /usr/local/lib/python3.10/dist-packages (from pandas>=1.4->xarray==2023.7.0) (2.8.2)\n",
            "Requirement already satisfied: pytz>=2020.1 in /usr/local/lib/python3.10/dist-packages (from pandas>=1.4->xarray==2023.7.0) (2023.4)\n",
            "Requirement already satisfied: tzdata>=2022.1 in /usr/local/lib/python3.10/dist-packages (from pandas>=1.4->xarray==2023.7.0) (2024.1)\n",
            "Requirement already satisfied: six>=1.5 in /usr/local/lib/python3.10/dist-packages (from python-dateutil>=2.8.2->pandas>=1.4->xarray==2023.7.0) (1.16.0)\n",
            "Collecting netCDF4==1.6.5\n",
            "  Downloading netCDF4-1.6.5-cp310-cp310-manylinux_2_17_x86_64.manylinux2014_x86_64.whl (5.5 MB)\n",
            "\u001b[2K     \u001b[90m━━━━━━━━━━━━━━━━━━━━━━━━━━━━━━━━━━━━━━━━\u001b[0m \u001b[32m5.5/5.5 MB\u001b[0m \u001b[31m31.4 MB/s\u001b[0m eta \u001b[36m0:00:00\u001b[0m\n",
            "\u001b[?25hCollecting cftime (from netCDF4==1.6.5)\n",
            "  Downloading cftime-1.6.4-cp310-cp310-manylinux_2_17_x86_64.manylinux2014_x86_64.whl (1.3 MB)\n",
            "\u001b[2K     \u001b[90m━━━━━━━━━━━━━━━━━━━━━━━━━━━━━━━━━━━━━━━━\u001b[0m \u001b[32m1.3/1.3 MB\u001b[0m \u001b[31m42.0 MB/s\u001b[0m eta \u001b[36m0:00:00\u001b[0m\n",
            "\u001b[?25hRequirement already satisfied: certifi in /usr/local/lib/python3.10/dist-packages (from netCDF4==1.6.5) (2024.7.4)\n",
            "Requirement already satisfied: numpy in /usr/local/lib/python3.10/dist-packages (from netCDF4==1.6.5) (1.25.2)\n",
            "Installing collected packages: cftime, netCDF4\n",
            "Successfully installed cftime-1.6.4 netCDF4-1.6.5\n",
            "Requirement already satisfied: pandas==2.0.3 in /usr/local/lib/python3.10/dist-packages (2.0.3)\n",
            "Requirement already satisfied: python-dateutil>=2.8.2 in /usr/local/lib/python3.10/dist-packages (from pandas==2.0.3) (2.8.2)\n",
            "Requirement already satisfied: pytz>=2020.1 in /usr/local/lib/python3.10/dist-packages (from pandas==2.0.3) (2023.4)\n",
            "Requirement already satisfied: tzdata>=2022.1 in /usr/local/lib/python3.10/dist-packages (from pandas==2.0.3) (2024.1)\n",
            "Requirement already satisfied: numpy>=1.21.0 in /usr/local/lib/python3.10/dist-packages (from pandas==2.0.3) (1.25.2)\n",
            "Requirement already satisfied: six>=1.5 in /usr/local/lib/python3.10/dist-packages (from python-dateutil>=2.8.2->pandas==2.0.3) (1.16.0)\n",
            "Requirement already satisfied: seaborn==0.13.1 in /usr/local/lib/python3.10/dist-packages (0.13.1)\n",
            "Requirement already satisfied: numpy!=1.24.0,>=1.20 in /usr/local/lib/python3.10/dist-packages (from seaborn==0.13.1) (1.25.2)\n",
            "Requirement already satisfied: pandas>=1.2 in /usr/local/lib/python3.10/dist-packages (from seaborn==0.13.1) (2.0.3)\n",
            "Requirement already satisfied: matplotlib!=3.6.1,>=3.4 in /usr/local/lib/python3.10/dist-packages (from seaborn==0.13.1) (3.7.1)\n",
            "Requirement already satisfied: contourpy>=1.0.1 in /usr/local/lib/python3.10/dist-packages (from matplotlib!=3.6.1,>=3.4->seaborn==0.13.1) (1.2.1)\n",
            "Requirement already satisfied: cycler>=0.10 in /usr/local/lib/python3.10/dist-packages (from matplotlib!=3.6.1,>=3.4->seaborn==0.13.1) (0.12.1)\n",
            "Requirement already satisfied: fonttools>=4.22.0 in /usr/local/lib/python3.10/dist-packages (from matplotlib!=3.6.1,>=3.4->seaborn==0.13.1) (4.53.1)\n",
            "Requirement already satisfied: kiwisolver>=1.0.1 in /usr/local/lib/python3.10/dist-packages (from matplotlib!=3.6.1,>=3.4->seaborn==0.13.1) (1.4.5)\n",
            "Requirement already satisfied: packaging>=20.0 in /usr/local/lib/python3.10/dist-packages (from matplotlib!=3.6.1,>=3.4->seaborn==0.13.1) (24.1)\n",
            "Requirement already satisfied: pillow>=6.2.0 in /usr/local/lib/python3.10/dist-packages (from matplotlib!=3.6.1,>=3.4->seaborn==0.13.1) (9.4.0)\n",
            "Requirement already satisfied: pyparsing>=2.3.1 in /usr/local/lib/python3.10/dist-packages (from matplotlib!=3.6.1,>=3.4->seaborn==0.13.1) (3.1.2)\n",
            "Requirement already satisfied: python-dateutil>=2.7 in /usr/local/lib/python3.10/dist-packages (from matplotlib!=3.6.1,>=3.4->seaborn==0.13.1) (2.8.2)\n",
            "Requirement already satisfied: pytz>=2020.1 in /usr/local/lib/python3.10/dist-packages (from pandas>=1.2->seaborn==0.13.1) (2023.4)\n",
            "Requirement already satisfied: tzdata>=2022.1 in /usr/local/lib/python3.10/dist-packages (from pandas>=1.2->seaborn==0.13.1) (2024.1)\n",
            "Requirement already satisfied: six>=1.5 in /usr/local/lib/python3.10/dist-packages (from python-dateutil>=2.7->matplotlib!=3.6.1,>=3.4->seaborn==0.13.1) (1.16.0)\n",
            "Requirement already satisfied: rasterio==1.3.10 in /usr/local/lib/python3.10/dist-packages (1.3.10)\n",
            "Requirement already satisfied: affine in /usr/local/lib/python3.10/dist-packages (from rasterio==1.3.10) (2.4.0)\n",
            "Requirement already satisfied: attrs in /usr/local/lib/python3.10/dist-packages (from rasterio==1.3.10) (23.2.0)\n",
            "Requirement already satisfied: certifi in /usr/local/lib/python3.10/dist-packages (from rasterio==1.3.10) (2024.7.4)\n",
            "Requirement already satisfied: click>=4.0 in /usr/local/lib/python3.10/dist-packages (from rasterio==1.3.10) (8.1.7)\n",
            "Requirement already satisfied: cligj>=0.5 in /usr/local/lib/python3.10/dist-packages (from rasterio==1.3.10) (0.7.2)\n",
            "Requirement already satisfied: numpy in /usr/local/lib/python3.10/dist-packages (from rasterio==1.3.10) (1.25.2)\n",
            "Requirement already satisfied: snuggs>=1.4.1 in /usr/local/lib/python3.10/dist-packages (from rasterio==1.3.10) (1.4.7)\n",
            "Requirement already satisfied: click-plugins in /usr/local/lib/python3.10/dist-packages (from rasterio==1.3.10) (1.1.1)\n",
            "Requirement already satisfied: setuptools in /usr/local/lib/python3.10/dist-packages (from rasterio==1.3.10) (67.7.2)\n",
            "Requirement already satisfied: pyparsing>=2.1.6 in /usr/local/lib/python3.10/dist-packages (from snuggs>=1.4.1->rasterio==1.3.10) (3.1.2)\n",
            "Requirement already satisfied: imageio==2.31.6 in /usr/local/lib/python3.10/dist-packages (2.31.6)\n",
            "Requirement already satisfied: numpy in /usr/local/lib/python3.10/dist-packages (from imageio==2.31.6) (1.25.2)\n",
            "Requirement already satisfied: pillow<10.1.0,>=8.3.2 in /usr/local/lib/python3.10/dist-packages (from imageio==2.31.6) (9.4.0)\n",
            "Requirement already satisfied: geopandas==0.13.2 in /usr/local/lib/python3.10/dist-packages (0.13.2)\n",
            "Requirement already satisfied: fiona>=1.8.19 in /usr/local/lib/python3.10/dist-packages (from geopandas==0.13.2) (1.9.6)\n",
            "Requirement already satisfied: packaging in /usr/local/lib/python3.10/dist-packages (from geopandas==0.13.2) (24.1)\n",
            "Requirement already satisfied: pandas>=1.1.0 in /usr/local/lib/python3.10/dist-packages (from geopandas==0.13.2) (2.0.3)\n",
            "Requirement already satisfied: pyproj>=3.0.1 in /usr/local/lib/python3.10/dist-packages (from geopandas==0.13.2) (3.6.1)\n",
            "Requirement already satisfied: shapely>=1.7.1 in /usr/local/lib/python3.10/dist-packages (from geopandas==0.13.2) (2.0.4)\n",
            "Requirement already satisfied: attrs>=19.2.0 in /usr/local/lib/python3.10/dist-packages (from fiona>=1.8.19->geopandas==0.13.2) (23.2.0)\n",
            "Requirement already satisfied: certifi in /usr/local/lib/python3.10/dist-packages (from fiona>=1.8.19->geopandas==0.13.2) (2024.7.4)\n",
            "Requirement already satisfied: click~=8.0 in /usr/local/lib/python3.10/dist-packages (from fiona>=1.8.19->geopandas==0.13.2) (8.1.7)\n",
            "Requirement already satisfied: click-plugins>=1.0 in /usr/local/lib/python3.10/dist-packages (from fiona>=1.8.19->geopandas==0.13.2) (1.1.1)\n",
            "Requirement already satisfied: cligj>=0.5 in /usr/local/lib/python3.10/dist-packages (from fiona>=1.8.19->geopandas==0.13.2) (0.7.2)\n",
            "Requirement already satisfied: six in /usr/local/lib/python3.10/dist-packages (from fiona>=1.8.19->geopandas==0.13.2) (1.16.0)\n",
            "Requirement already satisfied: python-dateutil>=2.8.2 in /usr/local/lib/python3.10/dist-packages (from pandas>=1.1.0->geopandas==0.13.2) (2.8.2)\n",
            "Requirement already satisfied: pytz>=2020.1 in /usr/local/lib/python3.10/dist-packages (from pandas>=1.1.0->geopandas==0.13.2) (2023.4)\n",
            "Requirement already satisfied: tzdata>=2022.1 in /usr/local/lib/python3.10/dist-packages (from pandas>=1.1.0->geopandas==0.13.2) (2024.1)\n",
            "Requirement already satisfied: numpy>=1.21.0 in /usr/local/lib/python3.10/dist-packages (from pandas>=1.1.0->geopandas==0.13.2) (1.25.2)\n",
            "Collecting cmasher==1.8.0\n",
            "  Downloading cmasher-1.8.0-py3-none-any.whl (533 kB)\n",
            "\u001b[2K     \u001b[90m━━━━━━━━━━━━━━━━━━━━━━━━━━━━━━━━━━━━━━━━\u001b[0m \u001b[32m533.3/533.3 kB\u001b[0m \u001b[31m7.8 MB/s\u001b[0m eta \u001b[36m0:00:00\u001b[0m\n",
            "\u001b[?25hCollecting colorspacious>=1.1.0 (from cmasher==1.8.0)\n",
            "  Downloading colorspacious-1.1.2-py2.py3-none-any.whl (37 kB)\n",
            "Requirement already satisfied: matplotlib>=3.5 in /usr/local/lib/python3.10/dist-packages (from cmasher==1.8.0) (3.7.1)\n",
            "Requirement already satisfied: numpy>=1.19.3 in /usr/local/lib/python3.10/dist-packages (from cmasher==1.8.0) (1.25.2)\n",
            "Requirement already satisfied: contourpy>=1.0.1 in /usr/local/lib/python3.10/dist-packages (from matplotlib>=3.5->cmasher==1.8.0) (1.2.1)\n",
            "Requirement already satisfied: cycler>=0.10 in /usr/local/lib/python3.10/dist-packages (from matplotlib>=3.5->cmasher==1.8.0) (0.12.1)\n",
            "Requirement already satisfied: fonttools>=4.22.0 in /usr/local/lib/python3.10/dist-packages (from matplotlib>=3.5->cmasher==1.8.0) (4.53.1)\n",
            "Requirement already satisfied: kiwisolver>=1.0.1 in /usr/local/lib/python3.10/dist-packages (from matplotlib>=3.5->cmasher==1.8.0) (1.4.5)\n",
            "Requirement already satisfied: packaging>=20.0 in /usr/local/lib/python3.10/dist-packages (from matplotlib>=3.5->cmasher==1.8.0) (24.1)\n",
            "Requirement already satisfied: pillow>=6.2.0 in /usr/local/lib/python3.10/dist-packages (from matplotlib>=3.5->cmasher==1.8.0) (9.4.0)\n",
            "Requirement already satisfied: pyparsing>=2.3.1 in /usr/local/lib/python3.10/dist-packages (from matplotlib>=3.5->cmasher==1.8.0) (3.1.2)\n",
            "Requirement already satisfied: python-dateutil>=2.7 in /usr/local/lib/python3.10/dist-packages (from matplotlib>=3.5->cmasher==1.8.0) (2.8.2)\n",
            "Requirement already satisfied: six>=1.5 in /usr/local/lib/python3.10/dist-packages (from python-dateutil>=2.7->matplotlib>=3.5->cmasher==1.8.0) (1.16.0)\n",
            "Installing collected packages: colorspacious, cmasher\n",
            "Successfully installed cmasher-1.8.0 colorspacious-1.1.2\n",
            "Requirement already satisfied: scipy==1.11.4 in /usr/local/lib/python3.10/dist-packages (1.11.4)\n",
            "Requirement already satisfied: numpy<1.28.0,>=1.21.6 in /usr/local/lib/python3.10/dist-packages (from scipy==1.11.4) (1.25.2)\n",
            "Collecting cftime==1.6.3\n",
            "  Downloading cftime-1.6.3-cp310-cp310-manylinux_2_17_x86_64.manylinux2014_x86_64.whl (1.3 MB)\n",
            "\u001b[2K     \u001b[90m━━━━━━━━━━━━━━━━━━━━━━━━━━━━━━━━━━━━━━━━\u001b[0m \u001b[32m1.3/1.3 MB\u001b[0m \u001b[31m6.3 MB/s\u001b[0m eta \u001b[36m0:00:00\u001b[0m\n",
            "\u001b[?25hRequirement already satisfied: numpy>1.13.3 in /usr/local/lib/python3.10/dist-packages (from cftime==1.6.3) (1.25.2)\n",
            "Installing collected packages: cftime\n",
            "  Attempting uninstall: cftime\n",
            "    Found existing installation: cftime 1.6.4\n",
            "    Uninstalling cftime-1.6.4:\n",
            "      Successfully uninstalled cftime-1.6.4\n",
            "Successfully installed cftime-1.6.3\n",
            "Requirement already satisfied: tensorflow==2.15.0 in /usr/local/lib/python3.10/dist-packages (2.15.0)\n",
            "Requirement already satisfied: absl-py>=1.0.0 in /usr/local/lib/python3.10/dist-packages (from tensorflow==2.15.0) (1.4.0)\n",
            "Requirement already satisfied: astunparse>=1.6.0 in /usr/local/lib/python3.10/dist-packages (from tensorflow==2.15.0) (1.6.3)\n",
            "Requirement already satisfied: flatbuffers>=23.5.26 in /usr/local/lib/python3.10/dist-packages (from tensorflow==2.15.0) (24.3.25)\n",
            "Requirement already satisfied: gast!=0.5.0,!=0.5.1,!=0.5.2,>=0.2.1 in /usr/local/lib/python3.10/dist-packages (from tensorflow==2.15.0) (0.6.0)\n",
            "Requirement already satisfied: google-pasta>=0.1.1 in /usr/local/lib/python3.10/dist-packages (from tensorflow==2.15.0) (0.2.0)\n",
            "Requirement already satisfied: h5py>=2.9.0 in /usr/local/lib/python3.10/dist-packages (from tensorflow==2.15.0) (3.9.0)\n",
            "Requirement already satisfied: libclang>=13.0.0 in /usr/local/lib/python3.10/dist-packages (from tensorflow==2.15.0) (18.1.1)\n",
            "Requirement already satisfied: ml-dtypes~=0.2.0 in /usr/local/lib/python3.10/dist-packages (from tensorflow==2.15.0) (0.2.0)\n",
            "Requirement already satisfied: numpy<2.0.0,>=1.23.5 in /usr/local/lib/python3.10/dist-packages (from tensorflow==2.15.0) (1.25.2)\n",
            "Requirement already satisfied: opt-einsum>=2.3.2 in /usr/local/lib/python3.10/dist-packages (from tensorflow==2.15.0) (3.3.0)\n",
            "Requirement already satisfied: packaging in /usr/local/lib/python3.10/dist-packages (from tensorflow==2.15.0) (24.1)\n",
            "Requirement already satisfied: protobuf!=4.21.0,!=4.21.1,!=4.21.2,!=4.21.3,!=4.21.4,!=4.21.5,<5.0.0dev,>=3.20.3 in /usr/local/lib/python3.10/dist-packages (from tensorflow==2.15.0) (3.20.3)\n",
            "Requirement already satisfied: setuptools in /usr/local/lib/python3.10/dist-packages (from tensorflow==2.15.0) (67.7.2)\n",
            "Requirement already satisfied: six>=1.12.0 in /usr/local/lib/python3.10/dist-packages (from tensorflow==2.15.0) (1.16.0)\n",
            "Requirement already satisfied: termcolor>=1.1.0 in /usr/local/lib/python3.10/dist-packages (from tensorflow==2.15.0) (2.4.0)\n",
            "Requirement already satisfied: typing-extensions>=3.6.6 in /usr/local/lib/python3.10/dist-packages (from tensorflow==2.15.0) (4.12.2)\n",
            "Requirement already satisfied: wrapt<1.15,>=1.11.0 in /usr/local/lib/python3.10/dist-packages (from tensorflow==2.15.0) (1.14.1)\n",
            "Requirement already satisfied: tensorflow-io-gcs-filesystem>=0.23.1 in /usr/local/lib/python3.10/dist-packages (from tensorflow==2.15.0) (0.37.1)\n",
            "Requirement already satisfied: grpcio<2.0,>=1.24.3 in /usr/local/lib/python3.10/dist-packages (from tensorflow==2.15.0) (1.64.1)\n",
            "Requirement already satisfied: tensorboard<2.16,>=2.15 in /usr/local/lib/python3.10/dist-packages (from tensorflow==2.15.0) (2.15.2)\n",
            "Requirement already satisfied: tensorflow-estimator<2.16,>=2.15.0 in /usr/local/lib/python3.10/dist-packages (from tensorflow==2.15.0) (2.15.0)\n",
            "Requirement already satisfied: keras<2.16,>=2.15.0 in /usr/local/lib/python3.10/dist-packages (from tensorflow==2.15.0) (2.15.0)\n",
            "Requirement already satisfied: wheel<1.0,>=0.23.0 in /usr/local/lib/python3.10/dist-packages (from astunparse>=1.6.0->tensorflow==2.15.0) (0.43.0)\n",
            "Requirement already satisfied: google-auth<3,>=1.6.3 in /usr/local/lib/python3.10/dist-packages (from tensorboard<2.16,>=2.15->tensorflow==2.15.0) (2.27.0)\n",
            "Requirement already satisfied: google-auth-oauthlib<2,>=0.5 in /usr/local/lib/python3.10/dist-packages (from tensorboard<2.16,>=2.15->tensorflow==2.15.0) (1.2.1)\n",
            "Requirement already satisfied: markdown>=2.6.8 in /usr/local/lib/python3.10/dist-packages (from tensorboard<2.16,>=2.15->tensorflow==2.15.0) (3.6)\n",
            "Requirement already satisfied: requests<3,>=2.21.0 in /usr/local/lib/python3.10/dist-packages (from tensorboard<2.16,>=2.15->tensorflow==2.15.0) (2.31.0)\n",
            "Requirement already satisfied: tensorboard-data-server<0.8.0,>=0.7.0 in /usr/local/lib/python3.10/dist-packages (from tensorboard<2.16,>=2.15->tensorflow==2.15.0) (0.7.2)\n",
            "Requirement already satisfied: werkzeug>=1.0.1 in /usr/local/lib/python3.10/dist-packages (from tensorboard<2.16,>=2.15->tensorflow==2.15.0) (3.0.3)\n",
            "Requirement already satisfied: cachetools<6.0,>=2.0.0 in /usr/local/lib/python3.10/dist-packages (from google-auth<3,>=1.6.3->tensorboard<2.16,>=2.15->tensorflow==2.15.0) (5.3.3)\n",
            "Requirement already satisfied: pyasn1-modules>=0.2.1 in /usr/local/lib/python3.10/dist-packages (from google-auth<3,>=1.6.3->tensorboard<2.16,>=2.15->tensorflow==2.15.0) (0.4.0)\n",
            "Requirement already satisfied: rsa<5,>=3.1.4 in /usr/local/lib/python3.10/dist-packages (from google-auth<3,>=1.6.3->tensorboard<2.16,>=2.15->tensorflow==2.15.0) (4.9)\n",
            "Requirement already satisfied: requests-oauthlib>=0.7.0 in /usr/local/lib/python3.10/dist-packages (from google-auth-oauthlib<2,>=0.5->tensorboard<2.16,>=2.15->tensorflow==2.15.0) (1.3.1)\n",
            "Requirement already satisfied: charset-normalizer<4,>=2 in /usr/local/lib/python3.10/dist-packages (from requests<3,>=2.21.0->tensorboard<2.16,>=2.15->tensorflow==2.15.0) (3.3.2)\n",
            "Requirement already satisfied: idna<4,>=2.5 in /usr/local/lib/python3.10/dist-packages (from requests<3,>=2.21.0->tensorboard<2.16,>=2.15->tensorflow==2.15.0) (3.7)\n",
            "Requirement already satisfied: urllib3<3,>=1.21.1 in /usr/local/lib/python3.10/dist-packages (from requests<3,>=2.21.0->tensorboard<2.16,>=2.15->tensorflow==2.15.0) (2.0.7)\n",
            "Requirement already satisfied: certifi>=2017.4.17 in /usr/local/lib/python3.10/dist-packages (from requests<3,>=2.21.0->tensorboard<2.16,>=2.15->tensorflow==2.15.0) (2024.7.4)\n",
            "Requirement already satisfied: MarkupSafe>=2.1.1 in /usr/local/lib/python3.10/dist-packages (from werkzeug>=1.0.1->tensorboard<2.16,>=2.15->tensorflow==2.15.0) (2.1.5)\n",
            "Requirement already satisfied: pyasn1<0.7.0,>=0.4.6 in /usr/local/lib/python3.10/dist-packages (from pyasn1-modules>=0.2.1->google-auth<3,>=1.6.3->tensorboard<2.16,>=2.15->tensorflow==2.15.0) (0.6.0)\n",
            "Requirement already satisfied: oauthlib>=3.0.0 in /usr/local/lib/python3.10/dist-packages (from requests-oauthlib>=0.7.0->google-auth-oauthlib<2,>=0.5->tensorboard<2.16,>=2.15->tensorflow==2.15.0) (3.2.2)\n",
            "Collecting great-circle-calculator==1.3.1\n",
            "  Downloading great_circle_calculator-1.3.1-py3-none-any.whl (12 kB)\n",
            "Installing collected packages: great-circle-calculator\n",
            "Successfully installed great-circle-calculator-1.3.1\n",
            "Collecting matplotlib_scalebar==0.8.1\n",
            "  Downloading matplotlib_scalebar-0.8.1-py2.py3-none-any.whl (17 kB)\n",
            "Requirement already satisfied: matplotlib in /usr/local/lib/python3.10/dist-packages (from matplotlib_scalebar==0.8.1) (3.7.1)\n",
            "Requirement already satisfied: contourpy>=1.0.1 in /usr/local/lib/python3.10/dist-packages (from matplotlib->matplotlib_scalebar==0.8.1) (1.2.1)\n",
            "Requirement already satisfied: cycler>=0.10 in /usr/local/lib/python3.10/dist-packages (from matplotlib->matplotlib_scalebar==0.8.1) (0.12.1)\n",
            "Requirement already satisfied: fonttools>=4.22.0 in /usr/local/lib/python3.10/dist-packages (from matplotlib->matplotlib_scalebar==0.8.1) (4.53.1)\n",
            "Requirement already satisfied: kiwisolver>=1.0.1 in /usr/local/lib/python3.10/dist-packages (from matplotlib->matplotlib_scalebar==0.8.1) (1.4.5)\n",
            "Requirement already satisfied: numpy>=1.20 in /usr/local/lib/python3.10/dist-packages (from matplotlib->matplotlib_scalebar==0.8.1) (1.25.2)\n",
            "Requirement already satisfied: packaging>=20.0 in /usr/local/lib/python3.10/dist-packages (from matplotlib->matplotlib_scalebar==0.8.1) (24.1)\n",
            "Requirement already satisfied: pillow>=6.2.0 in /usr/local/lib/python3.10/dist-packages (from matplotlib->matplotlib_scalebar==0.8.1) (9.4.0)\n",
            "Requirement already satisfied: pyparsing>=2.3.1 in /usr/local/lib/python3.10/dist-packages (from matplotlib->matplotlib_scalebar==0.8.1) (3.1.2)\n",
            "Requirement already satisfied: python-dateutil>=2.7 in /usr/local/lib/python3.10/dist-packages (from matplotlib->matplotlib_scalebar==0.8.1) (2.8.2)\n",
            "Requirement already satisfied: six>=1.5 in /usr/local/lib/python3.10/dist-packages (from python-dateutil>=2.7->matplotlib->matplotlib_scalebar==0.8.1) (1.16.0)\n",
            "Installing collected packages: matplotlib_scalebar\n",
            "Successfully installed matplotlib_scalebar-0.8.1\n",
            "Collecting adjustText==1.1.1\n",
            "  Downloading adjustText-1.1.1-py3-none-any.whl (11 kB)\n",
            "Requirement already satisfied: numpy in /usr/local/lib/python3.10/dist-packages (from adjustText==1.1.1) (1.25.2)\n",
            "Requirement already satisfied: matplotlib in /usr/local/lib/python3.10/dist-packages (from adjustText==1.1.1) (3.7.1)\n",
            "Requirement already satisfied: scipy in /usr/local/lib/python3.10/dist-packages (from adjustText==1.1.1) (1.11.4)\n",
            "Requirement already satisfied: contourpy>=1.0.1 in /usr/local/lib/python3.10/dist-packages (from matplotlib->adjustText==1.1.1) (1.2.1)\n",
            "Requirement already satisfied: cycler>=0.10 in /usr/local/lib/python3.10/dist-packages (from matplotlib->adjustText==1.1.1) (0.12.1)\n",
            "Requirement already satisfied: fonttools>=4.22.0 in /usr/local/lib/python3.10/dist-packages (from matplotlib->adjustText==1.1.1) (4.53.1)\n",
            "Requirement already satisfied: kiwisolver>=1.0.1 in /usr/local/lib/python3.10/dist-packages (from matplotlib->adjustText==1.1.1) (1.4.5)\n",
            "Requirement already satisfied: packaging>=20.0 in /usr/local/lib/python3.10/dist-packages (from matplotlib->adjustText==1.1.1) (24.1)\n",
            "Requirement already satisfied: pillow>=6.2.0 in /usr/local/lib/python3.10/dist-packages (from matplotlib->adjustText==1.1.1) (9.4.0)\n",
            "Requirement already satisfied: pyparsing>=2.3.1 in /usr/local/lib/python3.10/dist-packages (from matplotlib->adjustText==1.1.1) (3.1.2)\n",
            "Requirement already satisfied: python-dateutil>=2.7 in /usr/local/lib/python3.10/dist-packages (from matplotlib->adjustText==1.1.1) (2.8.2)\n",
            "Requirement already satisfied: six>=1.5 in /usr/local/lib/python3.10/dist-packages (from python-dateutil>=2.7->matplotlib->adjustText==1.1.1) (1.16.0)\n",
            "Installing collected packages: adjustText\n",
            "Successfully installed adjustText-1.1.1\n",
            "Collecting geopy==2.4.1\n",
            "  Downloading geopy-2.4.1-py3-none-any.whl (125 kB)\n",
            "\u001b[2K     \u001b[90m━━━━━━━━━━━━━━━━━━━━━━━━━━━━━━━━━━━━━━━━\u001b[0m \u001b[32m125.4/125.4 kB\u001b[0m \u001b[31m3.1 MB/s\u001b[0m eta \u001b[36m0:00:00\u001b[0m\n",
            "\u001b[?25hRequirement already satisfied: geographiclib<3,>=1.52 in /usr/local/lib/python3.10/dist-packages (from geopy==2.4.1) (2.0)\n",
            "Installing collected packages: geopy\n",
            "  Attempting uninstall: geopy\n",
            "    Found existing installation: geopy 2.3.0\n",
            "    Uninstalling geopy-2.3.0:\n",
            "      Successfully uninstalled geopy-2.3.0\n",
            "Successfully installed geopy-2.4.1\n"
          ]
        }
      ],
      "source": [
        "!pip install numpy==1.25.2\n",
        "!pip install rioxarray==0.15.5\n",
        "!pip install matplotlib==3.7.1\n",
        "!pip install xarray==2023.7.0\n",
        "!pip install netCDF4==1.6.5\n",
        "!pip install pandas==2.0.3\n",
        "!pip install seaborn==0.13.1\n",
        "!pip install rasterio==1.3.10\n",
        "!pip install imageio==2.31.6\n",
        "!pip install geopandas==0.13.2\n",
        "!pip install cmasher==1.8.0\n",
        "!pip install scipy==1.11.4\n",
        "!pip install cftime==1.6.3\n",
        "!pip install tensorflow==2.15.0 # cuDNN 8.9\tCUDA 12.2 # keras 2.15.0\n",
        "!pip install great-circle-calculator==1.3.1\n",
        "!pip install matplotlib_scalebar==0.8.1\n",
        "!pip install adjustText==1.1.1\n",
        "!pip install geopy==2.4.1"
      ]
    },
    {
      "cell_type": "code",
      "execution_count": null,
      "metadata": {
        "id": "7FmVdE-ejO6_"
      },
      "outputs": [],
      "source": [
        "import numpy as np\n",
        "import matplotlib.pyplot as plt\n",
        "import xarray\n",
        "import rioxarray\n",
        "from netCDF4 import num2date\n",
        "import rasterio\n",
        "from rasterio.plot import show\n",
        "import pandas as pd\n",
        "import copy\n",
        "import datetime\n",
        "from datetime import datetime, timedelta\n",
        "import seaborn as sns\n",
        "import geopandas as gpd\n",
        "import datetime\n",
        "import os\n",
        "from itertools import compress\n",
        "import random\n",
        "import re\n",
        "import math\n",
        "import gc\n",
        "import scipy.stats\n",
        "import warnings\n",
        "\n",
        "from sklearn.preprocessing import OneHotEncoder\n",
        "\n",
        "import tensorflow as tf\n",
        "from tensorflow import keras\n",
        "from tensorflow.keras import layers\n",
        "from tensorflow.keras import activations\n",
        "import sys\n",
        "from tensorflow.keras.callbacks import TensorBoard\n",
        "from tensorflow.keras.models import load_model\n",
        "import pickle\n",
        "\n",
        "tf.keras.backend.clear_session()"
      ]
    },
    {
      "cell_type": "code",
      "execution_count": null,
      "metadata": {
        "id": "3_bJpVXN2psC"
      },
      "outputs": [],
      "source": [
        "# keras.__version__\n",
        "# !pip show keras"
      ]
    },
    {
      "cell_type": "code",
      "execution_count": null,
      "metadata": {
        "colab": {
          "base_uri": "https://localhost:8080/"
        },
        "id": "Odw82S7jJIT4",
        "outputId": "af5948b7-9117-491f-fe82-36059b5f7f2c"
      },
      "outputs": [
        {
          "output_type": "stream",
          "name": "stdout",
          "text": [
            "nvcc: NVIDIA (R) Cuda compiler driver\n",
            "Copyright (c) 2005-2023 NVIDIA Corporation\n",
            "Built on Tue_Aug_15_22:02:13_PDT_2023\n",
            "Cuda compilation tools, release 12.2, V12.2.140\n",
            "Build cuda_12.2.r12.2/compiler.33191640_0\n"
          ]
        }
      ],
      "source": [
        "!nvcc --version #release 12.2, V12.2.140"
      ]
    },
    {
      "cell_type": "code",
      "execution_count": null,
      "metadata": {
        "colab": {
          "base_uri": "https://localhost:8080/"
        },
        "id": "4ue06jrEe0dz",
        "outputId": "c8c5b34e-bda6-4bc2-d26c-388a6918f8d7"
      },
      "outputs": [
        {
          "output_type": "stream",
          "name": "stdout",
          "text": [
            "No GPU found...\n",
            "\n"
          ]
        }
      ],
      "source": [
        "#Check if a GPU is available and used\n",
        "try:\n",
        "  device_name = tf.test.gpu_device_name()\n",
        "  if device_name != '/device:GPU:0':\n",
        "    raise SystemError('GPU device not found at :0')\n",
        "  print('Found GPU at: {}'.format(device_name))\n",
        "  gpu = True\n",
        "except SystemError:\n",
        "  print(\"No GPU found...\\n\")\n",
        "  gpu = False"
      ]
    },
    {
      "cell_type": "code",
      "execution_count": null,
      "metadata": {
        "colab": {
          "base_uri": "https://localhost:8080/"
        },
        "id": "5tFJ6JCiPi68",
        "outputId": "45511232-681f-453e-c245-e4dcedcc6a21"
      },
      "outputs": [
        {
          "output_type": "stream",
          "name": "stdout",
          "text": [
            "Mounted at /gdrive\n",
            "/gdrive\n"
          ]
        }
      ],
      "source": [
        "# Mount Google Drive\n",
        "from google.colab import drive\n",
        "drive.mount('/gdrive')\n",
        "%cd /gdrive"
      ]
    },
    {
      "cell_type": "code",
      "execution_count": null,
      "metadata": {
        "id": "WpfIxY0vMxja"
      },
      "outputs": [],
      "source": [
        "# Import modules\n",
        "sys.path.append('/.../python_modules/')\n",
        "\n",
        "from data_handle import *\n",
        "from plot_functions import *\n",
        "from models_creation import *\n",
        "from models_training_testing import *"
      ]
    },
    {
      "cell_type": "markdown",
      "metadata": {
        "id": "g4sFPTYxuERu"
      },
      "source": [
        "## General settings"
      ]
    },
    {
      "cell_type": "code",
      "execution_count": null,
      "metadata": {
        "id": "50X-Z78Pnadl"
      },
      "outputs": [],
      "source": [
        "# select the temporal frequency:\n",
        "temp_freq = \"W\"\n",
        "step_ahead = 0 # 0 means seq2val; >0 means seq2seq\n",
        "past_meteo_images = 104 # 104 weeks means two years\n",
        "focus_on_sensors = \"Racconigi_00417910001\"\n",
        "# Available sensors:\n",
        "#  'Racconigi_00417910001',\n",
        "#  'Savigliano_00421510001',\n",
        "#  'Vottignasco_00425010001'"
      ]
    },
    {
      "cell_type": "code",
      "execution_count": null,
      "metadata": {
        "id": "toNzV45Hvz-C"
      },
      "outputs": [],
      "source": [
        "# To automatic define directories\n",
        "# output_type\n",
        "if (step_ahead > 0):\n",
        "  output_type = \"seq2seq\"\n",
        "else:\n",
        "  output_type = \"seq2val\"\n",
        "\n",
        "# input sequence\n",
        "if (past_meteo_images == 104):\n",
        "  input_sequence_length = \"2Y\""
      ]
    },
    {
      "cell_type": "markdown",
      "metadata": {
        "id": "blqZ1kiTwUIn"
      },
      "source": [
        "## Directories"
      ]
    },
    {
      "cell_type": "code",
      "execution_count": null,
      "metadata": {
        "id": "euE6wUkWPnDx"
      },
      "outputs": [],
      "source": [
        "## Define your directories\n",
        "\n",
        "data_path = \"/.../Datasets/\"\n",
        "## subfolder in /datasets\n",
        "splits_target_objects_main_path = f\"{data_path}training_validation_test_sets_{input_sequence_length}/target_water_table_depth/\"\n",
        "# target data splitted into training validation and test - ready for deep learning models\n",
        "splits_target_numpy_objects_path = f\"{data_path}training_validation_test_sets_{input_sequence_length}/target_water_table_depth/{output_type}/\"\n",
        "\n",
        "# weather data splitted into training validation and test - ready for deep learning models\n",
        "splits_features_objects_main_path = f\"{data_path}training_validation_test_sets_{input_sequence_length}/features_meteorological_variables/\"\n",
        "# weather data not splitted\n",
        "unsplitted_features_path = f\"{data_path}pre_processed_meteoOI_ARPA_Grana_Maira/\"\n",
        "\n",
        "# directory for model log and saving trained parameters\n",
        "log_path = \"/.../Scripts/logs_weekly_models/local_models/\"\n",
        "log_path = f\"{log_path}{output_type}/training2016_validation_2022test\"\n",
        "\n",
        "# results saving path\n",
        "results_path = \"/.../Results/water_table_Grana_Maira/\"\n",
        "results_path_output_type = f\"{results_path}training2016_validation_2022test/{output_type}/\""
      ]
    },
    {
      "cell_type": "markdown",
      "metadata": {
        "id": "mCNhSdgDlvoc"
      },
      "source": [
        "# Import data"
      ]
    },
    {
      "cell_type": "markdown",
      "metadata": {
        "id": "KPCmBNh2mvT4"
      },
      "source": [
        "## Target: Water Table Depth"
      ]
    },
    {
      "cell_type": "markdown",
      "metadata": {
        "id": "SwryNcCocTxx"
      },
      "source": [
        "#### DataFrame"
      ]
    },
    {
      "cell_type": "code",
      "execution_count": null,
      "metadata": {
        "colab": {
          "base_uri": "https://localhost:8080/"
        },
        "id": "MP1P3Uk7uy8N",
        "outputId": "ed4754c5-e64e-4261-bad3-5ba64b54e581"
      },
      "outputs": [
        {
          "output_type": "execute_result",
          "data": {
            "text/plain": [
              "['Racconigi_00417910001_training_target_ds.csv',\n",
              " 'Racconigi_00417910001_validation_target_ds.csv',\n",
              " 'Racconigi_00417910001_test_target_ds.csv',\n",
              " 'Racconigi_00417910001_all_sets_target_ds.csv']"
            ]
          },
          "metadata": {},
          "execution_count": 13
        }
      ],
      "source": [
        "## Load full series with gaps introduced due to splitting\n",
        "files_target_main_path = os.listdir(splits_target_objects_main_path)\n",
        "\n",
        "target_splited_ds_file = [re.search(f'.*{focus_on_sensors}.*(.csv)$', files_target_main_path[i]) for i in range(len(files_target_main_path))]\n",
        "target_splited_ds_file = [files_target_main_path[i] for i in range(len(target_splited_ds_file)) if target_splited_ds_file[i] is not None]; target_splited_ds_file"
      ]
    },
    {
      "cell_type": "code",
      "execution_count": null,
      "metadata": {
        "id": "AjlDrtoc_81J"
      },
      "outputs": [],
      "source": [
        "water_table_depth_training_ds = pd.read_csv(f\"{splits_target_objects_main_path}{focus_on_sensors}_training_target_ds.csv\", dtype={\"ID_code\":'str'})\n",
        "water_table_depth_training_ds = water_table_depth_training_ds.astype({\"Date\":'datetime64[ns]'})\n",
        "\n",
        "water_table_depth_validation_ds = pd.read_csv(f\"{splits_target_objects_main_path}{focus_on_sensors}_validation_target_ds.csv\", dtype={\"ID_code\":'str'})\n",
        "water_table_depth_validation_ds = water_table_depth_validation_ds.astype({\"Date\":'datetime64[ns]'})\n",
        "\n",
        "water_table_depth_test_ds = pd.read_csv(f\"{splits_target_objects_main_path}{focus_on_sensors}_test_target_ds.csv\", dtype={\"ID_code\":'str'})\n",
        "water_table_depth_test_ds = water_table_depth_test_ds.astype({\"Date\":'datetime64[ns]'})\n",
        "\n",
        "water_table_depth_all_sets_ds = pd.read_csv(f\"{splits_target_objects_main_path}{focus_on_sensors}_all_sets_target_ds.csv\", dtype={\"ID_code\":'str'})\n",
        "water_table_depth_all_sets_ds = water_table_depth_all_sets_ds.astype({\"Date\":'datetime64[ns]'})"
      ]
    },
    {
      "cell_type": "code",
      "execution_count": null,
      "metadata": {
        "colab": {
          "base_uri": "https://localhost:8080/",
          "height": 424
        },
        "id": "UrCdJBhKZnsn",
        "outputId": "012b6047-d5a7-4d09-bc17-acb99da9ed75"
      },
      "outputs": [
        {
          "output_type": "execute_result",
          "data": {
            "text/plain": [
              "          Date      ID_code     Value\n",
              "0   2001-01-14  00417910001  4.100952\n",
              "1   2001-01-21  00417910001  4.127381\n",
              "2   2001-01-28  00417910001  4.195714\n",
              "3   2001-02-04  00417910001  4.258333\n",
              "4   2001-02-11  00417910001  4.336667\n",
              "..         ...          ...       ...\n",
              "744 2015-11-29  00417910001  4.490000\n",
              "745 2015-12-06  00417910001  4.496667\n",
              "746 2015-12-13  00417910001  4.499524\n",
              "747 2015-12-20  00417910001  4.500952\n",
              "748 2015-12-27  00417910001  4.510952\n",
              "\n",
              "[749 rows x 3 columns]"
            ],
            "text/html": [
              "\n",
              "  <div id=\"df-410806d3-8f64-4e8a-a24c-20d1c8d0363c\" class=\"colab-df-container\">\n",
              "    <div>\n",
              "<style scoped>\n",
              "    .dataframe tbody tr th:only-of-type {\n",
              "        vertical-align: middle;\n",
              "    }\n",
              "\n",
              "    .dataframe tbody tr th {\n",
              "        vertical-align: top;\n",
              "    }\n",
              "\n",
              "    .dataframe thead th {\n",
              "        text-align: right;\n",
              "    }\n",
              "</style>\n",
              "<table border=\"1\" class=\"dataframe\">\n",
              "  <thead>\n",
              "    <tr style=\"text-align: right;\">\n",
              "      <th></th>\n",
              "      <th>Date</th>\n",
              "      <th>ID_code</th>\n",
              "      <th>Value</th>\n",
              "    </tr>\n",
              "  </thead>\n",
              "  <tbody>\n",
              "    <tr>\n",
              "      <th>0</th>\n",
              "      <td>2001-01-14</td>\n",
              "      <td>00417910001</td>\n",
              "      <td>4.100952</td>\n",
              "    </tr>\n",
              "    <tr>\n",
              "      <th>1</th>\n",
              "      <td>2001-01-21</td>\n",
              "      <td>00417910001</td>\n",
              "      <td>4.127381</td>\n",
              "    </tr>\n",
              "    <tr>\n",
              "      <th>2</th>\n",
              "      <td>2001-01-28</td>\n",
              "      <td>00417910001</td>\n",
              "      <td>4.195714</td>\n",
              "    </tr>\n",
              "    <tr>\n",
              "      <th>3</th>\n",
              "      <td>2001-02-04</td>\n",
              "      <td>00417910001</td>\n",
              "      <td>4.258333</td>\n",
              "    </tr>\n",
              "    <tr>\n",
              "      <th>4</th>\n",
              "      <td>2001-02-11</td>\n",
              "      <td>00417910001</td>\n",
              "      <td>4.336667</td>\n",
              "    </tr>\n",
              "    <tr>\n",
              "      <th>...</th>\n",
              "      <td>...</td>\n",
              "      <td>...</td>\n",
              "      <td>...</td>\n",
              "    </tr>\n",
              "    <tr>\n",
              "      <th>744</th>\n",
              "      <td>2015-11-29</td>\n",
              "      <td>00417910001</td>\n",
              "      <td>4.490000</td>\n",
              "    </tr>\n",
              "    <tr>\n",
              "      <th>745</th>\n",
              "      <td>2015-12-06</td>\n",
              "      <td>00417910001</td>\n",
              "      <td>4.496667</td>\n",
              "    </tr>\n",
              "    <tr>\n",
              "      <th>746</th>\n",
              "      <td>2015-12-13</td>\n",
              "      <td>00417910001</td>\n",
              "      <td>4.499524</td>\n",
              "    </tr>\n",
              "    <tr>\n",
              "      <th>747</th>\n",
              "      <td>2015-12-20</td>\n",
              "      <td>00417910001</td>\n",
              "      <td>4.500952</td>\n",
              "    </tr>\n",
              "    <tr>\n",
              "      <th>748</th>\n",
              "      <td>2015-12-27</td>\n",
              "      <td>00417910001</td>\n",
              "      <td>4.510952</td>\n",
              "    </tr>\n",
              "  </tbody>\n",
              "</table>\n",
              "<p>749 rows × 3 columns</p>\n",
              "</div>\n",
              "    <div class=\"colab-df-buttons\">\n",
              "\n",
              "  <div class=\"colab-df-container\">\n",
              "    <button class=\"colab-df-convert\" onclick=\"convertToInteractive('df-410806d3-8f64-4e8a-a24c-20d1c8d0363c')\"\n",
              "            title=\"Convert this dataframe to an interactive table.\"\n",
              "            style=\"display:none;\">\n",
              "\n",
              "  <svg xmlns=\"http://www.w3.org/2000/svg\" height=\"24px\" viewBox=\"0 -960 960 960\">\n",
              "    <path d=\"M120-120v-720h720v720H120Zm60-500h600v-160H180v160Zm220 220h160v-160H400v160Zm0 220h160v-160H400v160ZM180-400h160v-160H180v160Zm440 0h160v-160H620v160ZM180-180h160v-160H180v160Zm440 0h160v-160H620v160Z\"/>\n",
              "  </svg>\n",
              "    </button>\n",
              "\n",
              "  <style>\n",
              "    .colab-df-container {\n",
              "      display:flex;\n",
              "      gap: 12px;\n",
              "    }\n",
              "\n",
              "    .colab-df-convert {\n",
              "      background-color: #E8F0FE;\n",
              "      border: none;\n",
              "      border-radius: 50%;\n",
              "      cursor: pointer;\n",
              "      display: none;\n",
              "      fill: #1967D2;\n",
              "      height: 32px;\n",
              "      padding: 0 0 0 0;\n",
              "      width: 32px;\n",
              "    }\n",
              "\n",
              "    .colab-df-convert:hover {\n",
              "      background-color: #E2EBFA;\n",
              "      box-shadow: 0px 1px 2px rgba(60, 64, 67, 0.3), 0px 1px 3px 1px rgba(60, 64, 67, 0.15);\n",
              "      fill: #174EA6;\n",
              "    }\n",
              "\n",
              "    .colab-df-buttons div {\n",
              "      margin-bottom: 4px;\n",
              "    }\n",
              "\n",
              "    [theme=dark] .colab-df-convert {\n",
              "      background-color: #3B4455;\n",
              "      fill: #D2E3FC;\n",
              "    }\n",
              "\n",
              "    [theme=dark] .colab-df-convert:hover {\n",
              "      background-color: #434B5C;\n",
              "      box-shadow: 0px 1px 3px 1px rgba(0, 0, 0, 0.15);\n",
              "      filter: drop-shadow(0px 1px 2px rgba(0, 0, 0, 0.3));\n",
              "      fill: #FFFFFF;\n",
              "    }\n",
              "  </style>\n",
              "\n",
              "    <script>\n",
              "      const buttonEl =\n",
              "        document.querySelector('#df-410806d3-8f64-4e8a-a24c-20d1c8d0363c button.colab-df-convert');\n",
              "      buttonEl.style.display =\n",
              "        google.colab.kernel.accessAllowed ? 'block' : 'none';\n",
              "\n",
              "      async function convertToInteractive(key) {\n",
              "        const element = document.querySelector('#df-410806d3-8f64-4e8a-a24c-20d1c8d0363c');\n",
              "        const dataTable =\n",
              "          await google.colab.kernel.invokeFunction('convertToInteractive',\n",
              "                                                    [key], {});\n",
              "        if (!dataTable) return;\n",
              "\n",
              "        const docLinkHtml = 'Like what you see? Visit the ' +\n",
              "          '<a target=\"_blank\" href=https://colab.research.google.com/notebooks/data_table.ipynb>data table notebook</a>'\n",
              "          + ' to learn more about interactive tables.';\n",
              "        element.innerHTML = '';\n",
              "        dataTable['output_type'] = 'display_data';\n",
              "        await google.colab.output.renderOutput(dataTable, element);\n",
              "        const docLink = document.createElement('div');\n",
              "        docLink.innerHTML = docLinkHtml;\n",
              "        element.appendChild(docLink);\n",
              "      }\n",
              "    </script>\n",
              "  </div>\n",
              "\n",
              "\n",
              "<div id=\"df-17ee77e8-9431-419f-965c-d994a0dec590\">\n",
              "  <button class=\"colab-df-quickchart\" onclick=\"quickchart('df-17ee77e8-9431-419f-965c-d994a0dec590')\"\n",
              "            title=\"Suggest charts\"\n",
              "            style=\"display:none;\">\n",
              "\n",
              "<svg xmlns=\"http://www.w3.org/2000/svg\" height=\"24px\"viewBox=\"0 0 24 24\"\n",
              "     width=\"24px\">\n",
              "    <g>\n",
              "        <path d=\"M19 3H5c-1.1 0-2 .9-2 2v14c0 1.1.9 2 2 2h14c1.1 0 2-.9 2-2V5c0-1.1-.9-2-2-2zM9 17H7v-7h2v7zm4 0h-2V7h2v10zm4 0h-2v-4h2v4z\"/>\n",
              "    </g>\n",
              "</svg>\n",
              "  </button>\n",
              "\n",
              "<style>\n",
              "  .colab-df-quickchart {\n",
              "      --bg-color: #E8F0FE;\n",
              "      --fill-color: #1967D2;\n",
              "      --hover-bg-color: #E2EBFA;\n",
              "      --hover-fill-color: #174EA6;\n",
              "      --disabled-fill-color: #AAA;\n",
              "      --disabled-bg-color: #DDD;\n",
              "  }\n",
              "\n",
              "  [theme=dark] .colab-df-quickchart {\n",
              "      --bg-color: #3B4455;\n",
              "      --fill-color: #D2E3FC;\n",
              "      --hover-bg-color: #434B5C;\n",
              "      --hover-fill-color: #FFFFFF;\n",
              "      --disabled-bg-color: #3B4455;\n",
              "      --disabled-fill-color: #666;\n",
              "  }\n",
              "\n",
              "  .colab-df-quickchart {\n",
              "    background-color: var(--bg-color);\n",
              "    border: none;\n",
              "    border-radius: 50%;\n",
              "    cursor: pointer;\n",
              "    display: none;\n",
              "    fill: var(--fill-color);\n",
              "    height: 32px;\n",
              "    padding: 0;\n",
              "    width: 32px;\n",
              "  }\n",
              "\n",
              "  .colab-df-quickchart:hover {\n",
              "    background-color: var(--hover-bg-color);\n",
              "    box-shadow: 0 1px 2px rgba(60, 64, 67, 0.3), 0 1px 3px 1px rgba(60, 64, 67, 0.15);\n",
              "    fill: var(--button-hover-fill-color);\n",
              "  }\n",
              "\n",
              "  .colab-df-quickchart-complete:disabled,\n",
              "  .colab-df-quickchart-complete:disabled:hover {\n",
              "    background-color: var(--disabled-bg-color);\n",
              "    fill: var(--disabled-fill-color);\n",
              "    box-shadow: none;\n",
              "  }\n",
              "\n",
              "  .colab-df-spinner {\n",
              "    border: 2px solid var(--fill-color);\n",
              "    border-color: transparent;\n",
              "    border-bottom-color: var(--fill-color);\n",
              "    animation:\n",
              "      spin 1s steps(1) infinite;\n",
              "  }\n",
              "\n",
              "  @keyframes spin {\n",
              "    0% {\n",
              "      border-color: transparent;\n",
              "      border-bottom-color: var(--fill-color);\n",
              "      border-left-color: var(--fill-color);\n",
              "    }\n",
              "    20% {\n",
              "      border-color: transparent;\n",
              "      border-left-color: var(--fill-color);\n",
              "      border-top-color: var(--fill-color);\n",
              "    }\n",
              "    30% {\n",
              "      border-color: transparent;\n",
              "      border-left-color: var(--fill-color);\n",
              "      border-top-color: var(--fill-color);\n",
              "      border-right-color: var(--fill-color);\n",
              "    }\n",
              "    40% {\n",
              "      border-color: transparent;\n",
              "      border-right-color: var(--fill-color);\n",
              "      border-top-color: var(--fill-color);\n",
              "    }\n",
              "    60% {\n",
              "      border-color: transparent;\n",
              "      border-right-color: var(--fill-color);\n",
              "    }\n",
              "    80% {\n",
              "      border-color: transparent;\n",
              "      border-right-color: var(--fill-color);\n",
              "      border-bottom-color: var(--fill-color);\n",
              "    }\n",
              "    90% {\n",
              "      border-color: transparent;\n",
              "      border-bottom-color: var(--fill-color);\n",
              "    }\n",
              "  }\n",
              "</style>\n",
              "\n",
              "  <script>\n",
              "    async function quickchart(key) {\n",
              "      const quickchartButtonEl =\n",
              "        document.querySelector('#' + key + ' button');\n",
              "      quickchartButtonEl.disabled = true;  // To prevent multiple clicks.\n",
              "      quickchartButtonEl.classList.add('colab-df-spinner');\n",
              "      try {\n",
              "        const charts = await google.colab.kernel.invokeFunction(\n",
              "            'suggestCharts', [key], {});\n",
              "      } catch (error) {\n",
              "        console.error('Error during call to suggestCharts:', error);\n",
              "      }\n",
              "      quickchartButtonEl.classList.remove('colab-df-spinner');\n",
              "      quickchartButtonEl.classList.add('colab-df-quickchart-complete');\n",
              "    }\n",
              "    (() => {\n",
              "      let quickchartButtonEl =\n",
              "        document.querySelector('#df-17ee77e8-9431-419f-965c-d994a0dec590 button');\n",
              "      quickchartButtonEl.style.display =\n",
              "        google.colab.kernel.accessAllowed ? 'block' : 'none';\n",
              "    })();\n",
              "  </script>\n",
              "</div>\n",
              "\n",
              "  <div id=\"id_4e2dc1c9-71f5-4e0d-8a2e-d2358b1262e0\">\n",
              "    <style>\n",
              "      .colab-df-generate {\n",
              "        background-color: #E8F0FE;\n",
              "        border: none;\n",
              "        border-radius: 50%;\n",
              "        cursor: pointer;\n",
              "        display: none;\n",
              "        fill: #1967D2;\n",
              "        height: 32px;\n",
              "        padding: 0 0 0 0;\n",
              "        width: 32px;\n",
              "      }\n",
              "\n",
              "      .colab-df-generate:hover {\n",
              "        background-color: #E2EBFA;\n",
              "        box-shadow: 0px 1px 2px rgba(60, 64, 67, 0.3), 0px 1px 3px 1px rgba(60, 64, 67, 0.15);\n",
              "        fill: #174EA6;\n",
              "      }\n",
              "\n",
              "      [theme=dark] .colab-df-generate {\n",
              "        background-color: #3B4455;\n",
              "        fill: #D2E3FC;\n",
              "      }\n",
              "\n",
              "      [theme=dark] .colab-df-generate:hover {\n",
              "        background-color: #434B5C;\n",
              "        box-shadow: 0px 1px 3px 1px rgba(0, 0, 0, 0.15);\n",
              "        filter: drop-shadow(0px 1px 2px rgba(0, 0, 0, 0.3));\n",
              "        fill: #FFFFFF;\n",
              "      }\n",
              "    </style>\n",
              "    <button class=\"colab-df-generate\" onclick=\"generateWithVariable('water_table_depth_training_ds')\"\n",
              "            title=\"Generate code using this dataframe.\"\n",
              "            style=\"display:none;\">\n",
              "\n",
              "  <svg xmlns=\"http://www.w3.org/2000/svg\" height=\"24px\"viewBox=\"0 0 24 24\"\n",
              "       width=\"24px\">\n",
              "    <path d=\"M7,19H8.4L18.45,9,17,7.55,7,17.6ZM5,21V16.75L18.45,3.32a2,2,0,0,1,2.83,0l1.4,1.43a1.91,1.91,0,0,1,.58,1.4,1.91,1.91,0,0,1-.58,1.4L9.25,21ZM18.45,9,17,7.55Zm-12,3A5.31,5.31,0,0,0,4.9,8.1,5.31,5.31,0,0,0,1,6.5,5.31,5.31,0,0,0,4.9,4.9,5.31,5.31,0,0,0,6.5,1,5.31,5.31,0,0,0,8.1,4.9,5.31,5.31,0,0,0,12,6.5,5.46,5.46,0,0,0,6.5,12Z\"/>\n",
              "  </svg>\n",
              "    </button>\n",
              "    <script>\n",
              "      (() => {\n",
              "      const buttonEl =\n",
              "        document.querySelector('#id_4e2dc1c9-71f5-4e0d-8a2e-d2358b1262e0 button.colab-df-generate');\n",
              "      buttonEl.style.display =\n",
              "        google.colab.kernel.accessAllowed ? 'block' : 'none';\n",
              "\n",
              "      buttonEl.onclick = () => {\n",
              "        google.colab.notebook.generateWithVariable('water_table_depth_training_ds');\n",
              "      }\n",
              "      })();\n",
              "    </script>\n",
              "  </div>\n",
              "\n",
              "    </div>\n",
              "  </div>\n"
            ],
            "application/vnd.google.colaboratory.intrinsic+json": {
              "type": "dataframe",
              "variable_name": "water_table_depth_training_ds",
              "summary": "{\n  \"name\": \"water_table_depth_training_ds\",\n  \"rows\": 749,\n  \"fields\": [\n    {\n      \"column\": \"Date\",\n      \"properties\": {\n        \"dtype\": \"date\",\n        \"min\": \"2001-01-14 00:00:00\",\n        \"max\": \"2015-12-27 00:00:00\",\n        \"num_unique_values\": 749,\n        \"samples\": [\n          \"2012-10-14 00:00:00\",\n          \"2008-05-11 00:00:00\",\n          \"2003-08-03 00:00:00\"\n        ],\n        \"semantic_type\": \"\",\n        \"description\": \"\"\n      }\n    },\n    {\n      \"column\": \"ID_code\",\n      \"properties\": {\n        \"dtype\": \"category\",\n        \"num_unique_values\": 1,\n        \"samples\": [\n          \"00417910001\"\n        ],\n        \"semantic_type\": \"\",\n        \"description\": \"\"\n      }\n    },\n    {\n      \"column\": \"Value\",\n      \"properties\": {\n        \"dtype\": \"number\",\n        \"std\": 0.7611342140269625,\n        \"min\": 2.125238095238095,\n        \"max\": 6.990714285714286,\n        \"num_unique_values\": 730,\n        \"samples\": [\n          4.770952380952381\n        ],\n        \"semantic_type\": \"\",\n        \"description\": \"\"\n      }\n    }\n  ]\n}"
            }
          },
          "metadata": {},
          "execution_count": 15
        }
      ],
      "source": [
        "water_table_depth_training_ds"
      ]
    },
    {
      "cell_type": "code",
      "execution_count": null,
      "metadata": {
        "colab": {
          "base_uri": "https://localhost:8080/",
          "height": 35
        },
        "id": "7aaoG7OgC3Cy",
        "outputId": "c5e68984-984e-423c-fc9c-35807e505b01"
      },
      "outputs": [
        {
          "output_type": "execute_result",
          "data": {
            "text/plain": [
              "'00417910001'"
            ],
            "application/vnd.google.colaboratory.intrinsic+json": {
              "type": "string"
            }
          },
          "metadata": {},
          "execution_count": 16
        }
      ],
      "source": [
        "sensor_id = water_table_depth_training_ds[\"ID_code\"].unique()[0]; sensor_id"
      ]
    },
    {
      "cell_type": "code",
      "execution_count": null,
      "metadata": {
        "colab": {
          "base_uri": "https://localhost:8080/"
        },
        "id": "LpWjeTzaAiRJ",
        "outputId": "79cafbed-bc38-4790-b8ec-5e28a370c61f"
      },
      "outputs": [
        {
          "output_type": "execute_result",
          "data": {
            "text/plain": [
              "Date       datetime64[ns]\n",
              "ID_code            object\n",
              "Value             float64\n",
              "dtype: object"
            ]
          },
          "metadata": {},
          "execution_count": 17
        }
      ],
      "source": [
        "water_table_depth_training_ds.dtypes"
      ]
    },
    {
      "cell_type": "code",
      "execution_count": null,
      "metadata": {
        "colab": {
          "base_uri": "https://localhost:8080/",
          "height": 35
        },
        "id": "tbPcrHtVCYE6",
        "outputId": "2390eaa4-de4d-4ac2-f824-640d254543d7"
      },
      "outputs": [
        {
          "output_type": "execute_result",
          "data": {
            "text/plain": [
              "'Racconigi 00417910001'"
            ],
            "application/vnd.google.colaboratory.intrinsic+json": {
              "type": "string"
            }
          },
          "metadata": {},
          "execution_count": 18
        }
      ],
      "source": [
        "# Write Municipality and ID Code for plot titles\n",
        "sensor_municipality_id = focus_on_sensors.replace(\"_\",\" \")\n",
        "sensor_municipality_id"
      ]
    },
    {
      "cell_type": "code",
      "execution_count": null,
      "metadata": {
        "colab": {
          "base_uri": "https://localhost:8080/",
          "height": 35
        },
        "id": "1KFZpyrx_3eN",
        "outputId": "2c01a677-822d-403d-9ab5-68bdc9189a03"
      },
      "outputs": [
        {
          "output_type": "execute_result",
          "data": {
            "text/plain": [
              "'Racconigi'"
            ],
            "application/vnd.google.colaboratory.intrinsic+json": {
              "type": "string"
            }
          },
          "metadata": {},
          "execution_count": 19
        }
      ],
      "source": [
        "sensor_municipality = \" \".join(re.findall(\"[a-zA-Z]+\", sensor_municipality_id))\n",
        "sensor_municipality"
      ]
    },
    {
      "cell_type": "code",
      "execution_count": null,
      "metadata": {
        "colab": {
          "base_uri": "https://localhost:8080/",
          "height": 403
        },
        "id": "k99_lGUPB2Fp",
        "outputId": "8a08f89d-5e88-4d29-8f8c-b3ab7ecbb494"
      },
      "outputs": [
        {
          "output_type": "display_data",
          "data": {
            "text/plain": [
              "<Figure size 1000x300 with 1 Axes>"
            ],
            "image/png": "[encoded data removed]"
          },
          "metadata": {}
        }
      ],
      "source": [
        "plot_ts_with_gaps(y = water_table_depth_training_ds[\"Value\"].values,\n",
        "                  date = water_table_depth_training_ds[\"Date\"].values,\n",
        "                  label_base_series = \"Water Table Depth [m]\",\n",
        "                  title = sensor_municipality_id + \": training set\", width = 10,\n",
        "                  height = 3, temp_freq='W', y_lim = 0.05, linewidth = 0.5, x_legend = 1.28)"
      ]
    },
    {
      "cell_type": "code",
      "execution_count": null,
      "metadata": {
        "colab": {
          "base_uri": "https://localhost:8080/",
          "height": 403
        },
        "id": "5kV_yYWxDYIQ",
        "outputId": "4bcbce39-530a-4a6c-da75-f54a5caae7f0"
      },
      "outputs": [
        {
          "output_type": "display_data",
          "data": {
            "text/plain": [
              "<Figure size 600x300 with 1 Axes>"
            ],
            "image/png": "[encoded data removed]"
          },
          "metadata": {}
        }
      ],
      "source": [
        "plot_ts_with_gaps(y = water_table_depth_validation_ds[\"Value\"].values,\n",
        "                  date = water_table_depth_validation_ds[\"Date\"].values,\n",
        "                  label_base_series = \"Water Table Depth [m]\",\n",
        "                  title = sensor_municipality_id + \": validation set\", width = 6,\n",
        "                  height = 3, temp_freq='W', y_lim = 0.05, linewidth = 0.5, x_legend = 1.475)"
      ]
    },
    {
      "cell_type": "code",
      "execution_count": null,
      "metadata": {
        "colab": {
          "base_uri": "https://localhost:8080/",
          "height": 403
        },
        "id": "0zik0xtPDmPh",
        "outputId": "da6f7c3f-6db7-4ed0-d318-80890efd5e41"
      },
      "outputs": [
        {
          "output_type": "display_data",
          "data": {
            "text/plain": [
              "<Figure size 600x300 with 1 Axes>"
            ],
            "image/png": "[encoded data removed]"
          },
          "metadata": {}
        }
      ],
      "source": [
        "plot_ts_with_gaps(y = water_table_depth_test_ds[\"Value\"].values,\n",
        "                  date = water_table_depth_test_ds[\"Date\"].values,\n",
        "                  label_base_series = \"Water Table Depth [m]\",\n",
        "                  title = sensor_municipality_id + \": test set\", width = 6,\n",
        "                  height = 3, temp_freq='W', y_lim = 0.05, linewidth = 0.5, x_legend = 1.475)"
      ]
    },
    {
      "cell_type": "markdown",
      "metadata": {
        "id": "M4eYNapvcENI"
      },
      "source": [
        "#### Model Output objects"
      ]
    },
    {
      "cell_type": "code",
      "execution_count": null,
      "metadata": {
        "colab": {
          "base_uri": "https://localhost:8080/"
        },
        "id": "NBWwuKEUKHMw",
        "outputId": "8c47e79b-0a3a-4d59-fdb8-55e8002cff14"
      },
      "outputs": [
        {
          "output_type": "execute_result",
          "data": {
            "text/plain": [
              "['Racconigi_00417910001_training_target_values.npy',\n",
              " 'Racconigi_00417910001_training_target_normalized_values.npy',\n",
              " 'Racconigi_00417910001_training_target_dates.npy',\n",
              " 'Racconigi_00417910001_validation_target_values.npy',\n",
              " 'Racconigi_00417910001_validation_target_normalized_values.npy',\n",
              " 'Racconigi_00417910001_validation_target_dates.npy',\n",
              " 'Racconigi_00417910001_test_target_values.npy',\n",
              " 'Racconigi_00417910001_test_target_normalized_values.npy',\n",
              " 'Racconigi_00417910001_test_target_dates.npy']"
            ]
          },
          "metadata": {},
          "execution_count": 23
        }
      ],
      "source": [
        "files_target_numpy = os.listdir(splits_target_numpy_objects_path)\n",
        "\n",
        "target_splited_numpy_file = [re.search(f'.*{focus_on_sensors}.*', files_target_numpy[i]) for i in range(len(files_target_numpy))]\n",
        "target_splited_numpy_file = [files_target_numpy[i] for i in range(len(target_splited_numpy_file)) if target_splited_numpy_file[i] is not None]\n",
        "target_splited_numpy_file"
      ]
    },
    {
      "cell_type": "code",
      "execution_count": null,
      "metadata": {
        "id": "Sx72fUm-uswx"
      },
      "outputs": [],
      "source": [
        "### Load splited numpy objects (the actual output of the following models)\n",
        "\n",
        "## Training\n",
        "water_table_depth_training_values = np.load(f\"{splits_target_numpy_objects_path}{focus_on_sensors}_training_target_values.npy\")\n",
        "water_table_depth_training_normalized_values = np.load(f\"{splits_target_numpy_objects_path}{focus_on_sensors}_training_target_normalized_values.npy\")\n",
        "\n",
        "## Validation\n",
        "water_table_depth_validation_values = np.load(f\"{splits_target_numpy_objects_path}{focus_on_sensors}_validation_target_values.npy\")\n",
        "water_table_depth_validation_normalized_values = np.load(f\"{splits_target_numpy_objects_path}{focus_on_sensors}_validation_target_normalized_values.npy\")\n",
        "\n",
        "## Test\n",
        "water_table_depth_test_values = np.load(f\"{splits_target_numpy_objects_path}{focus_on_sensors}_test_target_values.npy\")\n",
        "water_table_depth_test_normalized_values = np.load(f\"{splits_target_numpy_objects_path}{focus_on_sensors}_test_target_normalized_values.npy\")"
      ]
    },
    {
      "cell_type": "markdown",
      "metadata": {
        "id": "kdx9hKH4cedX"
      },
      "source": [
        "#### Normalization factors"
      ]
    },
    {
      "cell_type": "code",
      "execution_count": null,
      "metadata": {
        "colab": {
          "base_uri": "https://localhost:8080/"
        },
        "id": "U78ajG7EcuxR",
        "outputId": "b6076c49-873f-4bf3-8769-85699f69113c"
      },
      "outputs": [
        {
          "output_type": "execute_result",
          "data": {
            "text/plain": [
              "['Racconigi_00417910001_training_target_mean.npy',\n",
              " 'Racconigi_00417910001_training_target_std.npy']"
            ]
          },
          "metadata": {},
          "execution_count": 25
        }
      ],
      "source": [
        "files_target_main_path = os.listdir(splits_target_objects_main_path)\n",
        "\n",
        "target_normalization_factors_file = [re.search(f'.*{focus_on_sensors}.*(.npy)$', files_target_main_path[i]) for i in range(len(files_target_main_path))]\n",
        "target_normalization_factors_file = [files_target_main_path[i] for i in range(len(target_normalization_factors_file)) if target_normalization_factors_file[i] is not None]; target_normalization_factors_file"
      ]
    },
    {
      "cell_type": "code",
      "execution_count": null,
      "metadata": {
        "id": "Ep3jIxuoc15k"
      },
      "outputs": [],
      "source": [
        "water_table_depth_training_mean = np.load(f\"{splits_target_objects_main_path}{focus_on_sensors}_training_target_mean.npy\")\n",
        "water_table_depth_training_std = np.load(f\"{splits_target_objects_main_path}{focus_on_sensors}_training_target_std.npy\")"
      ]
    },
    {
      "cell_type": "code",
      "execution_count": null,
      "metadata": {
        "colab": {
          "base_uri": "https://localhost:8080/"
        },
        "id": "cmlcnvp3dHx1",
        "outputId": "646a85f7-b858-4a75-afb0-0ac937172af6"
      },
      "outputs": [
        {
          "output_type": "stream",
          "name": "stdout",
          "text": [
            "Training mean[m]: 4.540472906907098\n"
          ]
        }
      ],
      "source": [
        "print(\"Training mean[m]:\", water_table_depth_training_mean)"
      ]
    },
    {
      "cell_type": "code",
      "execution_count": null,
      "metadata": {
        "colab": {
          "base_uri": "https://localhost:8080/"
        },
        "id": "Buu5I5bFdQAX",
        "outputId": "f689fbeb-dc90-4021-beae-80ddbbf427db"
      },
      "outputs": [
        {
          "output_type": "stream",
          "name": "stdout",
          "text": [
            "Training standard deviation[m]: 0.7611342140269624\n"
          ]
        }
      ],
      "source": [
        "print(\"Training standard deviation[m]:\", water_table_depth_training_std)"
      ]
    },
    {
      "cell_type": "markdown",
      "metadata": {
        "id": "BqPk2xp2SzNF"
      },
      "source": [
        "## Features: Meteorological variables"
      ]
    },
    {
      "cell_type": "markdown",
      "metadata": {
        "id": "NjZxWwrFoIZB"
      },
      "source": [
        "### Model Input objects"
      ]
    },
    {
      "cell_type": "code",
      "execution_count": null,
      "metadata": {
        "colab": {
          "base_uri": "https://localhost:8080/"
        },
        "id": "1xUxMpAXSwVg",
        "outputId": "acfc5814-9277-4eff-ec0a-cb1708dd4247"
      },
      "outputs": [
        {
          "output_type": "execute_result",
          "data": {
            "text/plain": [
              "['Racconigi_00417910001_training_image_sequences.npy',\n",
              " 'Racconigi_00417910001_training_image_sequences_dates.npy',\n",
              " 'Racconigi_00417910001_training_normalized_image_sequences.npy',\n",
              " 'Racconigi_00417910001_training_month_OHE.npy',\n",
              " 'Racconigi_00417910001_validation_image_sequences.npy',\n",
              " 'Racconigi_00417910001_validation_normalized_image_sequences.npy',\n",
              " 'Racconigi_00417910001_validation_image_sequences_dates.npy',\n",
              " 'Racconigi_00417910001_validation_month_OHE.npy',\n",
              " 'Racconigi_00417910001_test_image_sequences.npy',\n",
              " 'Racconigi_00417910001_test_normalized_image_sequences.npy',\n",
              " 'Racconigi_00417910001_test_image_sequences_dates.npy',\n",
              " 'Racconigi_00417910001_test_month_OHE.npy']"
            ]
          },
          "metadata": {},
          "execution_count": 29
        }
      ],
      "source": [
        "files_features_main_path = os.listdir(splits_features_objects_main_path)\n",
        "\n",
        "features_splited_numpy_file = [re.search(f'.*{focus_on_sensors}.*(.npy)$', files_features_main_path[i]) for i in range(len(files_features_main_path))]\n",
        "features_splited_numpy_file = [files_features_main_path[i] for i in range(len(features_splited_numpy_file)) if features_splited_numpy_file[i] is not None]; features_splited_numpy_file"
      ]
    },
    {
      "cell_type": "code",
      "execution_count": null,
      "metadata": {
        "id": "TbPMnPDLUPiQ"
      },
      "outputs": [],
      "source": [
        "## Training\n",
        "meteorological_training_input_sequences_normalized = np.load(f\"{splits_features_objects_main_path}{focus_on_sensors}_training_normalized_image_sequences.npy\")\n",
        "month_OHE_training = np.load(f\"{splits_features_objects_main_path}{focus_on_sensors}_training_month_OHE.npy\")\n",
        "\n",
        "## Validation\n",
        "meteorological_validation_input_sequences_normalized = np.load(f\"{splits_features_objects_main_path}{focus_on_sensors}_validation_normalized_image_sequences.npy\")\n",
        "month_OHE_validation = np.load(f\"{splits_features_objects_main_path}{focus_on_sensors}_validation_month_OHE.npy\")\n",
        "\n",
        "## Test\n",
        "meteorological_test_input_sequences_normalized = np.load(f\"{splits_features_objects_main_path}{focus_on_sensors}_test_normalized_image_sequences.npy\")\n",
        "month_OHE_test = np.load(f\"{splits_features_objects_main_path}{focus_on_sensors}_test_month_OHE.npy\")"
      ]
    },
    {
      "cell_type": "code",
      "execution_count": null,
      "metadata": {
        "colab": {
          "base_uri": "https://localhost:8080/",
          "height": 423
        },
        "id": "-IsebIkWVtdK",
        "outputId": "2382486d-0885-4728-9c41-b9c0a57ade8d"
      },
      "outputs": [
        {
          "output_type": "execute_result",
          "data": {
            "text/plain": [
              "<matplotlib.colorbar.Colorbar at 0x7e1d3509a560>"
            ]
          },
          "metadata": {},
          "execution_count": 31
        },
        {
          "output_type": "display_data",
          "data": {
            "text/plain": [
              "<Figure size 640x480 with 2 Axes>"
            ],
            "image/png": "[encoded data removed]"
          },
          "metadata": {}
        }
      ],
      "source": [
        "plt.imshow(meteorological_training_input_sequences_normalized[-1,23,:,:,1], cmap = 'viridis', origin=\"lower\")\n",
        "plt.title(\"A sample precipitation image\")\n",
        "plt.colorbar()"
      ]
    },
    {
      "cell_type": "markdown",
      "metadata": {
        "id": "zOmG0GRMdX4T"
      },
      "source": [
        "### Normalization factors"
      ]
    },
    {
      "cell_type": "code",
      "execution_count": null,
      "metadata": {
        "colab": {
          "base_uri": "https://localhost:8080/"
        },
        "id": "n8t6oDFJdXaG",
        "outputId": "6062d2eb-4e43-42f6-9793-f7e3022bc778"
      },
      "outputs": [
        {
          "output_type": "execute_result",
          "data": {
            "text/plain": [
              "['Racconigi_00417910001_training_meteorological_means.nc',\n",
              " 'Racconigi_00417910001_training_meteorological_std.nc',\n",
              " 'Racconigi_00417910001_training_meteorological_features_ds.nc',\n",
              " 'Racconigi_00417910001_validation_meteorological_features_ds.nc',\n",
              " 'Racconigi_00417910001_test_meteorological_features_ds.nc']"
            ]
          },
          "metadata": {},
          "execution_count": 32
        }
      ],
      "source": [
        "iles_features_main_path = os.listdir(splits_features_objects_main_path)\n",
        "\n",
        "features_netcdf_file = [re.search(f'.*{focus_on_sensors}.*(.nc)$', files_features_main_path[i]) for i in range(len(files_features_main_path))]\n",
        "features_netcdf_file = [files_features_main_path[i] for i in range(len(features_netcdf_file)) if features_netcdf_file[i] is not None]; features_netcdf_file"
      ]
    },
    {
      "cell_type": "code",
      "execution_count": null,
      "metadata": {
        "id": "_P_YsNlXeGI_"
      },
      "outputs": [],
      "source": [
        "meteorological_training_means_ds = xarray.open_dataset(f\"{splits_features_objects_main_path}{focus_on_sensors}_training_meteorological_means.nc\")\n",
        "meteorological_training_std_ds = xarray.open_dataset(f\"{splits_features_objects_main_path}{focus_on_sensors}_training_meteorological_std.nc\")"
      ]
    },
    {
      "cell_type": "code",
      "execution_count": null,
      "metadata": {
        "colab": {
          "base_uri": "https://localhost:8080/"
        },
        "id": "QKRLDW3cekm-",
        "outputId": "48b45211-1ef2-4d0a-c05e-9d496e251ad6"
      },
      "outputs": [
        {
          "output_type": "execute_result",
          "data": {
            "text/plain": [
              "array(2.5644202, dtype=float32)"
            ]
          },
          "metadata": {},
          "execution_count": 34
        }
      ],
      "source": [
        "meteorological_training_means_ds[\"prec\"].values"
      ]
    },
    {
      "cell_type": "code",
      "execution_count": null,
      "metadata": {
        "colab": {
          "base_uri": "https://localhost:8080/"
        },
        "id": "8HgC4qekn7uu",
        "outputId": "81741f54-b866-46b4-edab-7fa9f4a35da7"
      },
      "outputs": [
        {
          "output_type": "execute_result",
          "data": {
            "text/plain": [
              "array(282.72906, dtype=float32)"
            ]
          },
          "metadata": {},
          "execution_count": 35
        }
      ],
      "source": [
        "meteorological_training_means_ds[\"tmax\"].values"
      ]
    },
    {
      "cell_type": "code",
      "execution_count": null,
      "metadata": {
        "colab": {
          "base_uri": "https://localhost:8080/"
        },
        "id": "TyBukwaCn9Ah",
        "outputId": "1c06fa78-6d51-4208-8e73-638fa6e47a3b"
      },
      "outputs": [
        {
          "output_type": "execute_result",
          "data": {
            "text/plain": [
              "array(282.72906, dtype=float32)"
            ]
          },
          "metadata": {},
          "execution_count": 36
        }
      ],
      "source": [
        "meteorological_training_means_ds[\"tmin\"].values"
      ]
    },
    {
      "cell_type": "markdown",
      "metadata": {
        "id": "-Vg7BL2uXoDb"
      },
      "source": [
        "### Weekly Mean Precipitations"
      ]
    },
    {
      "cell_type": "code",
      "execution_count": null,
      "metadata": {
        "colab": {
          "base_uri": "https://localhost:8080/",
          "height": 424
        },
        "id": "IkEinjrRXw0B",
        "outputId": "cae015d9-d3f8-40ee-da86-ce9dddaf67d4"
      },
      "outputs": [
        {
          "output_type": "execute_result",
          "data": {
            "text/plain": [
              "           prec       Date\n",
              "0      0.001065 1990-01-07\n",
              "1      0.000000 1990-01-14\n",
              "2      0.000000 1990-01-21\n",
              "3      0.279988 1990-01-28\n",
              "4      0.678878 1990-02-04\n",
              "...         ...        ...\n",
              "1781   1.194062 2024-02-25\n",
              "1782  21.381340 2024-03-03\n",
              "1783   9.854746 2024-03-10\n",
              "1784   0.824634 2024-03-17\n",
              "1785   0.166296 2024-03-24\n",
              "\n",
              "[1786 rows x 2 columns]"
            ],
            "text/html": [
              "\n",
              "  <div id=\"df-b82b1f80-b071-4a48-a0ba-5fdce3cc09b3\" class=\"colab-df-container\">\n",
              "    <div>\n",
              "<style scoped>\n",
              "    .dataframe tbody tr th:only-of-type {\n",
              "        vertical-align: middle;\n",
              "    }\n",
              "\n",
              "    .dataframe tbody tr th {\n",
              "        vertical-align: top;\n",
              "    }\n",
              "\n",
              "    .dataframe thead th {\n",
              "        text-align: right;\n",
              "    }\n",
              "</style>\n",
              "<table border=\"1\" class=\"dataframe\">\n",
              "  <thead>\n",
              "    <tr style=\"text-align: right;\">\n",
              "      <th></th>\n",
              "      <th>prec</th>\n",
              "      <th>Date</th>\n",
              "    </tr>\n",
              "  </thead>\n",
              "  <tbody>\n",
              "    <tr>\n",
              "      <th>0</th>\n",
              "      <td>0.001065</td>\n",
              "      <td>1990-01-07</td>\n",
              "    </tr>\n",
              "    <tr>\n",
              "      <th>1</th>\n",
              "      <td>0.000000</td>\n",
              "      <td>1990-01-14</td>\n",
              "    </tr>\n",
              "    <tr>\n",
              "      <th>2</th>\n",
              "      <td>0.000000</td>\n",
              "      <td>1990-01-21</td>\n",
              "    </tr>\n",
              "    <tr>\n",
              "      <th>3</th>\n",
              "      <td>0.279988</td>\n",
              "      <td>1990-01-28</td>\n",
              "    </tr>\n",
              "    <tr>\n",
              "      <th>4</th>\n",
              "      <td>0.678878</td>\n",
              "      <td>1990-02-04</td>\n",
              "    </tr>\n",
              "    <tr>\n",
              "      <th>...</th>\n",
              "      <td>...</td>\n",
              "      <td>...</td>\n",
              "    </tr>\n",
              "    <tr>\n",
              "      <th>1781</th>\n",
              "      <td>1.194062</td>\n",
              "      <td>2024-02-25</td>\n",
              "    </tr>\n",
              "    <tr>\n",
              "      <th>1782</th>\n",
              "      <td>21.381340</td>\n",
              "      <td>2024-03-03</td>\n",
              "    </tr>\n",
              "    <tr>\n",
              "      <th>1783</th>\n",
              "      <td>9.854746</td>\n",
              "      <td>2024-03-10</td>\n",
              "    </tr>\n",
              "    <tr>\n",
              "      <th>1784</th>\n",
              "      <td>0.824634</td>\n",
              "      <td>2024-03-17</td>\n",
              "    </tr>\n",
              "    <tr>\n",
              "      <th>1785</th>\n",
              "      <td>0.166296</td>\n",
              "      <td>2024-03-24</td>\n",
              "    </tr>\n",
              "  </tbody>\n",
              "</table>\n",
              "<p>1786 rows × 2 columns</p>\n",
              "</div>\n",
              "    <div class=\"colab-df-buttons\">\n",
              "\n",
              "  <div class=\"colab-df-container\">\n",
              "    <button class=\"colab-df-convert\" onclick=\"convertToInteractive('df-b82b1f80-b071-4a48-a0ba-5fdce3cc09b3')\"\n",
              "            title=\"Convert this dataframe to an interactive table.\"\n",
              "            style=\"display:none;\">\n",
              "\n",
              "  <svg xmlns=\"http://www.w3.org/2000/svg\" height=\"24px\" viewBox=\"0 -960 960 960\">\n",
              "    <path d=\"M120-120v-720h720v720H120Zm60-500h600v-160H180v160Zm220 220h160v-160H400v160Zm0 220h160v-160H400v160ZM180-400h160v-160H180v160Zm440 0h160v-160H620v160ZM180-180h160v-160H180v160Zm440 0h160v-160H620v160Z\"/>\n",
              "  </svg>\n",
              "    </button>\n",
              "\n",
              "  <style>\n",
              "    .colab-df-container {\n",
              "      display:flex;\n",
              "      gap: 12px;\n",
              "    }\n",
              "\n",
              "    .colab-df-convert {\n",
              "      background-color: #E8F0FE;\n",
              "      border: none;\n",
              "      border-radius: 50%;\n",
              "      cursor: pointer;\n",
              "      display: none;\n",
              "      fill: #1967D2;\n",
              "      height: 32px;\n",
              "      padding: 0 0 0 0;\n",
              "      width: 32px;\n",
              "    }\n",
              "\n",
              "    .colab-df-convert:hover {\n",
              "      background-color: #E2EBFA;\n",
              "      box-shadow: 0px 1px 2px rgba(60, 64, 67, 0.3), 0px 1px 3px 1px rgba(60, 64, 67, 0.15);\n",
              "      fill: #174EA6;\n",
              "    }\n",
              "\n",
              "    .colab-df-buttons div {\n",
              "      margin-bottom: 4px;\n",
              "    }\n",
              "\n",
              "    [theme=dark] .colab-df-convert {\n",
              "      background-color: #3B4455;\n",
              "      fill: #D2E3FC;\n",
              "    }\n",
              "\n",
              "    [theme=dark] .colab-df-convert:hover {\n",
              "      background-color: #434B5C;\n",
              "      box-shadow: 0px 1px 3px 1px rgba(0, 0, 0, 0.15);\n",
              "      filter: drop-shadow(0px 1px 2px rgba(0, 0, 0, 0.3));\n",
              "      fill: #FFFFFF;\n",
              "    }\n",
              "  </style>\n",
              "\n",
              "    <script>\n",
              "      const buttonEl =\n",
              "        document.querySelector('#df-b82b1f80-b071-4a48-a0ba-5fdce3cc09b3 button.colab-df-convert');\n",
              "      buttonEl.style.display =\n",
              "        google.colab.kernel.accessAllowed ? 'block' : 'none';\n",
              "\n",
              "      async function convertToInteractive(key) {\n",
              "        const element = document.querySelector('#df-b82b1f80-b071-4a48-a0ba-5fdce3cc09b3');\n",
              "        const dataTable =\n",
              "          await google.colab.kernel.invokeFunction('convertToInteractive',\n",
              "                                                    [key], {});\n",
              "        if (!dataTable) return;\n",
              "\n",
              "        const docLinkHtml = 'Like what you see? Visit the ' +\n",
              "          '<a target=\"_blank\" href=https://colab.research.google.com/notebooks/data_table.ipynb>data table notebook</a>'\n",
              "          + ' to learn more about interactive tables.';\n",
              "        element.innerHTML = '';\n",
              "        dataTable['output_type'] = 'display_data';\n",
              "        await google.colab.output.renderOutput(dataTable, element);\n",
              "        const docLink = document.createElement('div');\n",
              "        docLink.innerHTML = docLinkHtml;\n",
              "        element.appendChild(docLink);\n",
              "      }\n",
              "    </script>\n",
              "  </div>\n",
              "\n",
              "\n",
              "<div id=\"df-abdff866-054d-4fa9-8d7d-59cb93f8a809\">\n",
              "  <button class=\"colab-df-quickchart\" onclick=\"quickchart('df-abdff866-054d-4fa9-8d7d-59cb93f8a809')\"\n",
              "            title=\"Suggest charts\"\n",
              "            style=\"display:none;\">\n",
              "\n",
              "<svg xmlns=\"http://www.w3.org/2000/svg\" height=\"24px\"viewBox=\"0 0 24 24\"\n",
              "     width=\"24px\">\n",
              "    <g>\n",
              "        <path d=\"M19 3H5c-1.1 0-2 .9-2 2v14c0 1.1.9 2 2 2h14c1.1 0 2-.9 2-2V5c0-1.1-.9-2-2-2zM9 17H7v-7h2v7zm4 0h-2V7h2v10zm4 0h-2v-4h2v4z\"/>\n",
              "    </g>\n",
              "</svg>\n",
              "  </button>\n",
              "\n",
              "<style>\n",
              "  .colab-df-quickchart {\n",
              "      --bg-color: #E8F0FE;\n",
              "      --fill-color: #1967D2;\n",
              "      --hover-bg-color: #E2EBFA;\n",
              "      --hover-fill-color: #174EA6;\n",
              "      --disabled-fill-color: #AAA;\n",
              "      --disabled-bg-color: #DDD;\n",
              "  }\n",
              "\n",
              "  [theme=dark] .colab-df-quickchart {\n",
              "      --bg-color: #3B4455;\n",
              "      --fill-color: #D2E3FC;\n",
              "      --hover-bg-color: #434B5C;\n",
              "      --hover-fill-color: #FFFFFF;\n",
              "      --disabled-bg-color: #3B4455;\n",
              "      --disabled-fill-color: #666;\n",
              "  }\n",
              "\n",
              "  .colab-df-quickchart {\n",
              "    background-color: var(--bg-color);\n",
              "    border: none;\n",
              "    border-radius: 50%;\n",
              "    cursor: pointer;\n",
              "    display: none;\n",
              "    fill: var(--fill-color);\n",
              "    height: 32px;\n",
              "    padding: 0;\n",
              "    width: 32px;\n",
              "  }\n",
              "\n",
              "  .colab-df-quickchart:hover {\n",
              "    background-color: var(--hover-bg-color);\n",
              "    box-shadow: 0 1px 2px rgba(60, 64, 67, 0.3), 0 1px 3px 1px rgba(60, 64, 67, 0.15);\n",
              "    fill: var(--button-hover-fill-color);\n",
              "  }\n",
              "\n",
              "  .colab-df-quickchart-complete:disabled,\n",
              "  .colab-df-quickchart-complete:disabled:hover {\n",
              "    background-color: var(--disabled-bg-color);\n",
              "    fill: var(--disabled-fill-color);\n",
              "    box-shadow: none;\n",
              "  }\n",
              "\n",
              "  .colab-df-spinner {\n",
              "    border: 2px solid var(--fill-color);\n",
              "    border-color: transparent;\n",
              "    border-bottom-color: var(--fill-color);\n",
              "    animation:\n",
              "      spin 1s steps(1) infinite;\n",
              "  }\n",
              "\n",
              "  @keyframes spin {\n",
              "    0% {\n",
              "      border-color: transparent;\n",
              "      border-bottom-color: var(--fill-color);\n",
              "      border-left-color: var(--fill-color);\n",
              "    }\n",
              "    20% {\n",
              "      border-color: transparent;\n",
              "      border-left-color: var(--fill-color);\n",
              "      border-top-color: var(--fill-color);\n",
              "    }\n",
              "    30% {\n",
              "      border-color: transparent;\n",
              "      border-left-color: var(--fill-color);\n",
              "      border-top-color: var(--fill-color);\n",
              "      border-right-color: var(--fill-color);\n",
              "    }\n",
              "    40% {\n",
              "      border-color: transparent;\n",
              "      border-right-color: var(--fill-color);\n",
              "      border-top-color: var(--fill-color);\n",
              "    }\n",
              "    60% {\n",
              "      border-color: transparent;\n",
              "      border-right-color: var(--fill-color);\n",
              "    }\n",
              "    80% {\n",
              "      border-color: transparent;\n",
              "      border-right-color: var(--fill-color);\n",
              "      border-bottom-color: var(--fill-color);\n",
              "    }\n",
              "    90% {\n",
              "      border-color: transparent;\n",
              "      border-bottom-color: var(--fill-color);\n",
              "    }\n",
              "  }\n",
              "</style>\n",
              "\n",
              "  <script>\n",
              "    async function quickchart(key) {\n",
              "      const quickchartButtonEl =\n",
              "        document.querySelector('#' + key + ' button');\n",
              "      quickchartButtonEl.disabled = true;  // To prevent multiple clicks.\n",
              "      quickchartButtonEl.classList.add('colab-df-spinner');\n",
              "      try {\n",
              "        const charts = await google.colab.kernel.invokeFunction(\n",
              "            'suggestCharts', [key], {});\n",
              "      } catch (error) {\n",
              "        console.error('Error during call to suggestCharts:', error);\n",
              "      }\n",
              "      quickchartButtonEl.classList.remove('colab-df-spinner');\n",
              "      quickchartButtonEl.classList.add('colab-df-quickchart-complete');\n",
              "    }\n",
              "    (() => {\n",
              "      let quickchartButtonEl =\n",
              "        document.querySelector('#df-abdff866-054d-4fa9-8d7d-59cb93f8a809 button');\n",
              "      quickchartButtonEl.style.display =\n",
              "        google.colab.kernel.accessAllowed ? 'block' : 'none';\n",
              "    })();\n",
              "  </script>\n",
              "</div>\n",
              "\n",
              "  <div id=\"id_c7cf1769-8c5f-42bd-bed4-0e3f9d07470c\">\n",
              "    <style>\n",
              "      .colab-df-generate {\n",
              "        background-color: #E8F0FE;\n",
              "        border: none;\n",
              "        border-radius: 50%;\n",
              "        cursor: pointer;\n",
              "        display: none;\n",
              "        fill: #1967D2;\n",
              "        height: 32px;\n",
              "        padding: 0 0 0 0;\n",
              "        width: 32px;\n",
              "      }\n",
              "\n",
              "      .colab-df-generate:hover {\n",
              "        background-color: #E2EBFA;\n",
              "        box-shadow: 0px 1px 2px rgba(60, 64, 67, 0.3), 0px 1px 3px 1px rgba(60, 64, 67, 0.15);\n",
              "        fill: #174EA6;\n",
              "      }\n",
              "\n",
              "      [theme=dark] .colab-df-generate {\n",
              "        background-color: #3B4455;\n",
              "        fill: #D2E3FC;\n",
              "      }\n",
              "\n",
              "      [theme=dark] .colab-df-generate:hover {\n",
              "        background-color: #434B5C;\n",
              "        box-shadow: 0px 1px 3px 1px rgba(0, 0, 0, 0.15);\n",
              "        filter: drop-shadow(0px 1px 2px rgba(0, 0, 0, 0.3));\n",
              "        fill: #FFFFFF;\n",
              "      }\n",
              "    </style>\n",
              "    <button class=\"colab-df-generate\" onclick=\"generateWithVariable('weekly_mean_precipitations')\"\n",
              "            title=\"Generate code using this dataframe.\"\n",
              "            style=\"display:none;\">\n",
              "\n",
              "  <svg xmlns=\"http://www.w3.org/2000/svg\" height=\"24px\"viewBox=\"0 0 24 24\"\n",
              "       width=\"24px\">\n",
              "    <path d=\"M7,19H8.4L18.45,9,17,7.55,7,17.6ZM5,21V16.75L18.45,3.32a2,2,0,0,1,2.83,0l1.4,1.43a1.91,1.91,0,0,1,.58,1.4,1.91,1.91,0,0,1-.58,1.4L9.25,21ZM18.45,9,17,7.55Zm-12,3A5.31,5.31,0,0,0,4.9,8.1,5.31,5.31,0,0,0,1,6.5,5.31,5.31,0,0,0,4.9,4.9,5.31,5.31,0,0,0,6.5,1,5.31,5.31,0,0,0,8.1,4.9,5.31,5.31,0,0,0,12,6.5,5.46,5.46,0,0,0,6.5,12Z\"/>\n",
              "  </svg>\n",
              "    </button>\n",
              "    <script>\n",
              "      (() => {\n",
              "      const buttonEl =\n",
              "        document.querySelector('#id_c7cf1769-8c5f-42bd-bed4-0e3f9d07470c button.colab-df-generate');\n",
              "      buttonEl.style.display =\n",
              "        google.colab.kernel.accessAllowed ? 'block' : 'none';\n",
              "\n",
              "      buttonEl.onclick = () => {\n",
              "        google.colab.notebook.generateWithVariable('weekly_mean_precipitations');\n",
              "      }\n",
              "      })();\n",
              "    </script>\n",
              "  </div>\n",
              "\n",
              "    </div>\n",
              "  </div>\n"
            ],
            "application/vnd.google.colaboratory.intrinsic+json": {
              "type": "dataframe",
              "variable_name": "weekly_mean_precipitations",
              "summary": "{\n  \"name\": \"weekly_mean_precipitations\",\n  \"rows\": 1786,\n  \"fields\": [\n    {\n      \"column\": \"prec\",\n      \"properties\": {\n        \"dtype\": \"number\",\n        \"std\": 3.582682987186935,\n        \"min\": 0.0,\n        \"max\": 31.271275,\n        \"num_unique_values\": 1775,\n        \"samples\": [\n          0.0707913,\n          0.047723822,\n          0.31464222\n        ],\n        \"semantic_type\": \"\",\n        \"description\": \"\"\n      }\n    },\n    {\n      \"column\": \"Date\",\n      \"properties\": {\n        \"dtype\": \"date\",\n        \"min\": \"1990-01-07 00:00:00\",\n        \"max\": \"2024-03-24 00:00:00\",\n        \"num_unique_values\": 1786,\n        \"samples\": [\n          \"2000-04-30 00:00:00\",\n          \"2011-12-25 00:00:00\",\n          \"2015-11-22 00:00:00\"\n        ],\n        \"semantic_type\": \"\",\n        \"description\": \"\"\n      }\n    }\n  ]\n}"
            }
          },
          "metadata": {},
          "execution_count": 37
        }
      ],
      "source": [
        "# Useful in plots\n",
        "weekly_mean_precipitations = pd.read_csv(f\"{unsplitted_features_path}weekly_mean_precipitations_GM.csv\")\n",
        "weekly_mean_precipitations = weekly_mean_precipitations.astype({\"Date\":'datetime64[ns]'})\n",
        "weekly_mean_precipitations"
      ]
    },
    {
      "cell_type": "code",
      "execution_count": null,
      "metadata": {
        "colab": {
          "base_uri": "https://localhost:8080/",
          "height": 398
        },
        "id": "H_jYB8FKZ88g",
        "outputId": "3b0a82c3-7d50-4c69-b0df-d06b83ec56f5"
      },
      "outputs": [
        {
          "output_type": "display_data",
          "data": {
            "text/plain": [
              "<Figure size 1000x300 with 2 Axes>"
            ],
            "image/png": "[encoded data removed]"
          },
          "metadata": {}
        }
      ],
      "source": [
        "plot_ts_with_gaps(y = water_table_depth_all_sets_ds[\"Value\"].values,\n",
        "                  date = water_table_depth_all_sets_ds[\"Date\"].values,\n",
        "                  label_base_series = \"Water Table Depth [m]\",\n",
        "                  title = sensor_municipality_id + \": training + validation + test sets\", width = 10,\n",
        "                  height = 3, temp_freq='W', y_lim = 0.05, linewidth = 0.5, x_legend = 1.295,\n",
        "                  precipitations=weekly_mean_precipitations[\"prec\"].values,\n",
        "                  date_precipitations = weekly_mean_precipitations[\"Date\"].values)"
      ]
    },
    {
      "cell_type": "markdown",
      "metadata": {
        "id": "N2Uho1BuNlUj"
      },
      "source": [
        "# Model initialization & training"
      ]
    },
    {
      "cell_type": "markdown",
      "metadata": {
        "id": "t3RD-daZzgHs"
      },
      "source": [
        "## Model Initializations\n",
        "\n",
        "Initialize the desired model"
      ]
    },
    {
      "cell_type": "code",
      "execution_count": null,
      "metadata": {
        "id": "mzbPSUicodNs"
      },
      "outputs": [],
      "source": [
        "# Log saving folder\n",
        "log_path"
      ]
    },
    {
      "cell_type": "markdown",
      "metadata": {
        "id": "_CwvizK23GVJ"
      },
      "source": [
        "### Exogenous Seq2Val models\n",
        "Input: present and past meteorological data\n",
        "\n",
        "Output: water table depth at the next time step"
      ]
    },
    {
      "cell_type": "markdown",
      "metadata": {
        "id": "nlAtCGGh912j"
      },
      "source": [
        "#### Time distributed UnPWaveNet"
      ]
    },
    {
      "cell_type": "code",
      "execution_count": null,
      "metadata": {
        "colab": {
          "base_uri": "https://localhost:8080/"
        },
        "id": "eSN7VQbESsWk",
        "outputId": "ed44d5e9-56a2-4650-c514-4201d1f7b6a0"
      },
      "outputs": [
        {
          "output_type": "stream",
          "name": "stdout",
          "text": [
            "Model: \"model\"\n",
            "__________________________________________________________________________________________________\n",
            " Layer (type)                Output Shape                 Param #   Connected to                  \n",
            "==================================================================================================\n",
            " input_1 (InputLayer)        [(None, 104, 5, 8, 3)]       0         []                            \n",
            "                                                                                                  \n",
            " time_distributed (TimeDist  (None, 104, 5, 8, 8)         104       ['input_1[0][0]']             \n",
            " ributed)                                                                                         \n",
            "                                                                                                  \n",
            " leaky_re_lu (LeakyReLU)     (None, 104, 5, 8, 8)         0         ['time_distributed[0][0]']    \n",
            "                                                                                                  \n",
            " time_distributed_1 (TimeDi  (None, 104, 5, 8, 16)        528       ['leaky_re_lu[0][0]']         \n",
            " stributed)                                                                                       \n",
            "                                                                                                  \n",
            " leaky_re_lu_1 (LeakyReLU)   (None, 104, 5, 8, 16)        0         ['time_distributed_1[0][0]']  \n",
            "                                                                                                  \n",
            " time_distributed_2 (TimeDi  (None, 104, 3, 4, 16)        1040      ['leaky_re_lu_1[0][0]']       \n",
            " stributed)                                                                                       \n",
            "                                                                                                  \n",
            " leaky_re_lu_2 (LeakyReLU)   (None, 104, 3, 4, 16)        0         ['time_distributed_2[0][0]']  \n",
            "                                                                                                  \n",
            " time_distributed_3 (TimeDi  (None, 104, 2, 2, 16)        1040      ['leaky_re_lu_2[0][0]']       \n",
            " stributed)                                                                                       \n",
            "                                                                                                  \n",
            " leaky_re_lu_3 (LeakyReLU)   (None, 104, 2, 2, 16)        0         ['time_distributed_3[0][0]']  \n",
            "                                                                                                  \n",
            " time_distributed_4 (TimeDi  (None, 104, 1, 1, 16)        0         ['leaky_re_lu_3[0][0]']       \n",
            " stributed)                                                                                       \n",
            "                                                                                                  \n",
            " time_distributed_5 (TimeDi  (None, 104, 16)              0         ['time_distributed_4[0][0]']  \n",
            " stributed)                                                                                       \n",
            "                                                                                                  \n",
            " input_2 (InputLayer)        [(None, 104, 11)]            0         []                            \n",
            "                                                                                                  \n",
            " concatenate (Concatenate)   (None, 104, 27)              0         ['time_distributed_5[0][0]',  \n",
            "                                                                     'input_2[0][0]']             \n",
            "                                                                                                  \n",
            " conv1d (Conv1D)             (None, 104, 16)              448       ['concatenate[0][0]']         \n",
            "                                                                                                  \n",
            " leaky_re_lu_4 (LeakyReLU)   (None, 104, 16)              0         ['conv1d[0][0]']              \n",
            "                                                                                                  \n",
            " doprout_custom (doprout_cu  (None, 104, 16)              0         ['leaky_re_lu_4[0][0]']       \n",
            " stom)                                                                                            \n",
            "                                                                                                  \n",
            " dilated1_conv_value_Wlayer  (None, 101, 32)              2080      ['doprout_custom[0][0]']      \n",
            " 1 (Conv1D)                                                                                       \n",
            "                                                                                                  \n",
            " dilated1_conv_weights_Wlay  (None, 101, 32)              2080      ['doprout_custom[0][0]']      \n",
            " er1 (Conv1D)                                                                                     \n",
            "                                                                                                  \n",
            " tf.math.multiply (TFOpLamb  (None, 101, 32)              0         ['dilated1_conv_value_Wlayer1[\n",
            " da)                                                                0][0]',                       \n",
            "                                                                     'dilated1_conv_weights_Wlayer\n",
            "                                                                    1[0][0]']                     \n",
            "                                                                                                  \n",
            " leaky_re_lu_5 (LeakyReLU)   (None, 101, 32)              0         ['tf.math.multiply[0][0]']    \n",
            "                                                                                                  \n",
            " conv1d_1 (Conv1D)           (None, 104, 8)               136       ['doprout_custom[0][0]']      \n",
            "                                                                                                  \n",
            " conv_1x1_Wlayer1 (Conv1D)   (None, 101, 8)               264       ['leaky_re_lu_5[0][0]']       \n",
            "                                                                                                  \n",
            " average_pooling1d (Average  (None, 101, 8)               0         ['conv1d_1[0][0]']            \n",
            " Pooling1D)                                                                                       \n",
            "                                                                                                  \n",
            " add (Add)                   (None, 101, 8)               0         ['conv_1x1_Wlayer1[0][0]',    \n",
            "                                                                     'average_pooling1d[0][0]']   \n",
            "                                                                                                  \n",
            " leaky_re_lu_6 (LeakyReLU)   (None, 101, 8)               0         ['add[0][0]']                 \n",
            "                                                                                                  \n",
            " dilated2_conv_value_Wlayer  (None, 95, 32)               1056      ['leaky_re_lu_6[0][0]']       \n",
            " 2 (Conv1D)                                                                                       \n",
            "                                                                                                  \n",
            " dilated2_conv_weights_Wlay  (None, 95, 32)               1056      ['leaky_re_lu_6[0][0]']       \n",
            " er2 (Conv1D)                                                                                     \n",
            "                                                                                                  \n",
            " tf.math.multiply_1 (TFOpLa  (None, 95, 32)               0         ['dilated2_conv_value_Wlayer2[\n",
            " mbda)                                                              0][0]',                       \n",
            "                                                                     'dilated2_conv_weights_Wlayer\n",
            "                                                                    2[0][0]']                     \n",
            "                                                                                                  \n",
            " leaky_re_lu_7 (LeakyReLU)   (None, 95, 32)               0         ['tf.math.multiply_1[0][0]']  \n",
            "                                                                                                  \n",
            " conv_1x1_Wlayer2 (Conv1D)   (None, 95, 8)                264       ['leaky_re_lu_7[0][0]']       \n",
            "                                                                                                  \n",
            " pool_avg7_Wlayer2 (Average  (None, 95, 8)                0         ['leaky_re_lu_6[0][0]']       \n",
            " Pooling1D)                                                                                       \n",
            "                                                                                                  \n",
            " add_1 (Add)                 (None, 95, 8)                0         ['conv_1x1_Wlayer2[0][0]',    \n",
            "                                                                     'pool_avg7_Wlayer2[0][0]']   \n",
            "                                                                                                  \n",
            " leaky_re_lu_8 (LeakyReLU)   (None, 95, 8)                0         ['add_1[0][0]']               \n",
            "                                                                                                  \n",
            " dilated4_conv_value_Wlayer  (None, 83, 32)               1056      ['leaky_re_lu_8[0][0]']       \n",
            " 3 (Conv1D)                                                                                       \n",
            "                                                                                                  \n",
            " dilated4_conv_weights_Wlay  (None, 83, 32)               1056      ['leaky_re_lu_8[0][0]']       \n",
            " er3 (Conv1D)                                                                                     \n",
            "                                                                                                  \n",
            " tf.math.multiply_2 (TFOpLa  (None, 83, 32)               0         ['dilated4_conv_value_Wlayer3[\n",
            " mbda)                                                              0][0]',                       \n",
            "                                                                     'dilated4_conv_weights_Wlayer\n",
            "                                                                    3[0][0]']                     \n",
            "                                                                                                  \n",
            " leaky_re_lu_9 (LeakyReLU)   (None, 83, 32)               0         ['tf.math.multiply_2[0][0]']  \n",
            "                                                                                                  \n",
            " conv_1x1_Wlayer3 (Conv1D)   (None, 83, 8)                264       ['leaky_re_lu_9[0][0]']       \n",
            "                                                                                                  \n",
            " pool_avg13_Wlayer3 (Averag  (None, 83, 8)                0         ['leaky_re_lu_8[0][0]']       \n",
            " ePooling1D)                                                                                      \n",
            "                                                                                                  \n",
            " add_2 (Add)                 (None, 83, 8)                0         ['conv_1x1_Wlayer3[0][0]',    \n",
            "                                                                     'pool_avg13_Wlayer3[0][0]']  \n",
            "                                                                                                  \n",
            " leaky_re_lu_10 (LeakyReLU)  (None, 83, 8)                0         ['add_2[0][0]']               \n",
            "                                                                                                  \n",
            " dilated8_conv_value_Wlayer  (None, 59, 32)               1056      ['leaky_re_lu_10[0][0]']      \n",
            " 4 (Conv1D)                                                                                       \n",
            "                                                                                                  \n",
            " dilated8_conv_weights_Wlay  (None, 59, 32)               1056      ['leaky_re_lu_10[0][0]']      \n",
            " er4 (Conv1D)                                                                                     \n",
            "                                                                                                  \n",
            " tf.math.multiply_3 (TFOpLa  (None, 59, 32)               0         ['dilated8_conv_value_Wlayer4[\n",
            " mbda)                                                              0][0]',                       \n",
            "                                                                     'dilated8_conv_weights_Wlayer\n",
            "                                                                    4[0][0]']                     \n",
            "                                                                                                  \n",
            " leaky_re_lu_11 (LeakyReLU)  (None, 59, 32)               0         ['tf.math.multiply_3[0][0]']  \n",
            "                                                                                                  \n",
            " conv_1x1_Wlayer4 (Conv1D)   (None, 59, 8)                264       ['leaky_re_lu_11[0][0]']      \n",
            "                                                                                                  \n",
            " pool_avg25_Wlayer4 (Averag  (None, 59, 8)                0         ['leaky_re_lu_10[0][0]']      \n",
            " ePooling1D)                                                                                      \n",
            "                                                                                                  \n",
            " add_3 (Add)                 (None, 59, 8)                0         ['conv_1x1_Wlayer4[0][0]',    \n",
            "                                                                     'pool_avg25_Wlayer4[0][0]']  \n",
            "                                                                                                  \n",
            " leaky_re_lu_12 (LeakyReLU)  (None, 59, 8)                0         ['add_3[0][0]']               \n",
            "                                                                                                  \n",
            " dilated16_conv_value_Wlaye  (None, 11, 32)               1056      ['leaky_re_lu_12[0][0]']      \n",
            " r5 (Conv1D)                                                                                      \n",
            "                                                                                                  \n",
            " dilated16_conv_weights_Wla  (None, 11, 32)               1056      ['leaky_re_lu_12[0][0]']      \n",
            " yer5 (Conv1D)                                                                                    \n",
            "                                                                                                  \n",
            " tf.math.multiply_4 (TFOpLa  (None, 11, 32)               0         ['dilated16_conv_value_Wlayer5\n",
            " mbda)                                                              [0][0]',                      \n",
            "                                                                     'dilated16_conv_weights_Wlaye\n",
            "                                                                    r5[0][0]']                    \n",
            "                                                                                                  \n",
            " leaky_re_lu_13 (LeakyReLU)  (None, 11, 32)               0         ['tf.math.multiply_4[0][0]']  \n",
            "                                                                                                  \n",
            " conv_1x1_Wlayer5 (Conv1D)   (None, 11, 8)                264       ['leaky_re_lu_13[0][0]']      \n",
            "                                                                                                  \n",
            " tf.compat.v1.transpose_2 (  (None, 8, 101)               0         ['conv_1x1_Wlayer1[0][0]']    \n",
            " TFOpLambda)                                                                                      \n",
            "                                                                                                  \n",
            " tf.compat.v1.transpose_4 (  (None, 8, 95)                0         ['conv_1x1_Wlayer2[0][0]']    \n",
            " TFOpLambda)                                                                                      \n",
            "                                                                                                  \n",
            " tf.compat.v1.transpose_6 (  (None, 8, 83)                0         ['conv_1x1_Wlayer3[0][0]']    \n",
            " TFOpLambda)                                                                                      \n",
            "                                                                                                  \n",
            " tf.compat.v1.transpose_8 (  (None, 8, 59)                0         ['conv_1x1_Wlayer4[0][0]']    \n",
            " TFOpLambda)                                                                                      \n",
            "                                                                                                  \n",
            " tf.compat.v1.transpose (TF  (None, 8, 11)                0         ['conv_1x1_Wlayer5[0][0]']    \n",
            " OpLambda)                                                                                        \n",
            "                                                                                                  \n",
            " time_distributed_7 (TimeDi  (None, 8, 1)                 102       ['tf.compat.v1.transpose_2[0][\n",
            " stributed)                                                         0]']                          \n",
            "                                                                                                  \n",
            " time_distributed_8 (TimeDi  (None, 8, 1)                 96        ['tf.compat.v1.transpose_4[0][\n",
            " stributed)                                                         0]']                          \n",
            "                                                                                                  \n",
            " time_distributed_9 (TimeDi  (None, 8, 1)                 84        ['tf.compat.v1.transpose_6[0][\n",
            " stributed)                                                         0]']                          \n",
            "                                                                                                  \n",
            " time_distributed_10 (TimeD  (None, 8, 1)                 60        ['tf.compat.v1.transpose_8[0][\n",
            " istributed)                                                        0]']                          \n",
            "                                                                                                  \n",
            " time_distributed_6 (TimeDi  (None, 8, 1)                 12        ['tf.compat.v1.transpose[0][0]\n",
            " stributed)                                                         ']                            \n",
            "                                                                                                  \n",
            " tf.compat.v1.transpose_3 (  (None, 1, 8)                 0         ['time_distributed_7[0][0]']  \n",
            " TFOpLambda)                                                                                      \n",
            "                                                                                                  \n",
            " tf.compat.v1.transpose_5 (  (None, 1, 8)                 0         ['time_distributed_8[0][0]']  \n",
            " TFOpLambda)                                                                                      \n",
            "                                                                                                  \n",
            " tf.compat.v1.transpose_7 (  (None, 1, 8)                 0         ['time_distributed_9[0][0]']  \n",
            " TFOpLambda)                                                                                      \n",
            "                                                                                                  \n",
            " tf.compat.v1.transpose_9 (  (None, 1, 8)                 0         ['time_distributed_10[0][0]'] \n",
            " TFOpLambda)                                                                                      \n",
            "                                                                                                  \n",
            " tf.compat.v1.transpose_1 (  (None, 1, 8)                 0         ['time_distributed_6[0][0]']  \n",
            " TFOpLambda)                                                                                      \n",
            "                                                                                                  \n",
            " concatenate_1 (Concatenate  (None, 1, 40)                0         ['tf.compat.v1.transpose_3[0][\n",
            " )                                                                  0]',                          \n",
            "                                                                     'tf.compat.v1.transpose_5[0][\n",
            "                                                                    0]',                          \n",
            "                                                                     'tf.compat.v1.transpose_7[0][\n",
            "                                                                    0]',                          \n",
            "                                                                     'tf.compat.v1.transpose_9[0][\n",
            "                                                                    0]',                          \n",
            "                                                                     'tf.compat.v1.transpose_1[0][\n",
            "                                                                    0]']                          \n",
            "                                                                                                  \n",
            " leaky_re_lu_15 (LeakyReLU)  (None, 1, 40)                0         ['concatenate_1[0][0]']       \n",
            "                                                                                                  \n",
            " conv1d_2 (Conv1D)           (None, 1, 8)                 328       ['leaky_re_lu_15[0][0]']      \n",
            "                                                                                                  \n",
            " leaky_re_lu_16 (LeakyReLU)  (None, 1, 8)                 0         ['conv1d_2[0][0]']            \n",
            "                                                                                                  \n",
            " flatten_1 (Flatten)         (None, 8)                    0         ['leaky_re_lu_16[0][0]']      \n",
            "                                                                                                  \n",
            " dense_5 (Dense)             (None, 1)                    9         ['flatten_1[0][0]']           \n",
            "                                                                                                  \n",
            "==================================================================================================\n",
            "Total params: 17915 (69.98 KB)\n",
            "Trainable params: 17915 (69.98 KB)\n",
            "Non-trainable params: 0 (0.00 Byte)\n",
            "__________________________________________________________________________________________________\n"
          ]
        }
      ],
      "source": [
        "tf.keras.backend.clear_session()\n",
        "kernel_regularization_unpwavenet = 0.0075\n",
        "perc_dropout_hidden_series = 0.15\n",
        "channels_dilated_conv = 32\n",
        "channels_1x1conv = 8\n",
        "gated_activation = True\n",
        "\n",
        "exo_model_meteo_seq2val_time_dist_unpwavenet = meteo_model_time_dist_dilated_unpwavenet(output_neurons = 1,\n",
        "                        past_meteorological_images = past_meteo_images,\n",
        "                        input_month_encodings = True,\n",
        "                        dropout = \"classic\",\n",
        "                        perc_dropout = perc_dropout_hidden_series,\n",
        "                        channels_dilated_conv = channels_dilated_conv,\n",
        "                        kernel_dilated_conv = 4,\n",
        "                        channels_1x1conv = channels_1x1conv,\n",
        "                        gated_activation = gated_activation,\n",
        "                        kernel_regularizer = tf.keras.regularizers.L2(kernel_regularization_unpwavenet),\n",
        "                        kernel_regularizer_dilated_conv = tf.keras.regularizers.L2(kernel_regularization_unpwavenet),\n",
        "                        kernel_regularizer_1x1_conv = tf.keras.regularizers.L2(kernel_regularization_unpwavenet),\n",
        "                        bias_regularizer = None,\n",
        "                        bias_regularizer_dilated_conv = None,\n",
        "                        bias_regularizer_1x1_conv = None)\n",
        "\n",
        "exo_model_meteo_seq2val_time_dist_unpwavenet.summary()"
      ]
    },
    {
      "cell_type": "code",
      "execution_count": null,
      "metadata": {
        "id": "Ep3es9MzUbgm"
      },
      "outputs": [],
      "source": [
        "# Plot the architecture\n",
        "# architecture_file_name = f'{log_path}/exo_meteo_seq2val_time_distributed_unpwavenet.png'\n",
        "# keras.utils.plot_model(exo_model_meteo_seq2val_time_dist_unpwavenet, to_file = architecture_file_name)"
      ]
    },
    {
      "cell_type": "markdown",
      "metadata": {
        "id": "aLyFlrsp1Q3C"
      },
      "source": [
        "#### Time distributed LSTM"
      ]
    },
    {
      "cell_type": "code",
      "execution_count": null,
      "metadata": {
        "colab": {
          "base_uri": "https://localhost:8080/"
        },
        "id": "ju4xjOtI-lDe",
        "outputId": "7e8275b6-f2ec-49b7-9a26-ae98c4f32ce3"
      },
      "outputs": [
        {
          "output_type": "stream",
          "name": "stdout",
          "text": [
            "Model: \"model\"\n",
            "__________________________________________________________________________________________________\n",
            " Layer (type)                Output Shape                 Param #   Connected to                  \n",
            "==================================================================================================\n",
            " input_1 (InputLayer)        [(None, 104, 5, 8, 3)]       0         []                            \n",
            "                                                                                                  \n",
            " time_distributed (TimeDist  (None, 104, 5, 8, 8)         104       ['input_1[0][0]']             \n",
            " ributed)                                                                                         \n",
            "                                                                                                  \n",
            " leaky_re_lu (LeakyReLU)     (None, 104, 5, 8, 8)         0         ['time_distributed[0][0]']    \n",
            "                                                                                                  \n",
            " time_distributed_1 (TimeDi  (None, 104, 5, 8, 16)        528       ['leaky_re_lu[0][0]']         \n",
            " stributed)                                                                                       \n",
            "                                                                                                  \n",
            " leaky_re_lu_1 (LeakyReLU)   (None, 104, 5, 8, 16)        0         ['time_distributed_1[0][0]']  \n",
            "                                                                                                  \n",
            " time_distributed_2 (TimeDi  (None, 104, 3, 4, 16)        1040      ['leaky_re_lu_1[0][0]']       \n",
            " stributed)                                                                                       \n",
            "                                                                                                  \n",
            " leaky_re_lu_2 (LeakyReLU)   (None, 104, 3, 4, 16)        0         ['time_distributed_2[0][0]']  \n",
            "                                                                                                  \n",
            " time_distributed_3 (TimeDi  (None, 104, 2, 2, 16)        1040      ['leaky_re_lu_2[0][0]']       \n",
            " stributed)                                                                                       \n",
            "                                                                                                  \n",
            " leaky_re_lu_3 (LeakyReLU)   (None, 104, 2, 2, 16)        0         ['time_distributed_3[0][0]']  \n",
            "                                                                                                  \n",
            " time_distributed_4 (TimeDi  (None, 104, 1, 1, 16)        0         ['leaky_re_lu_3[0][0]']       \n",
            " stributed)                                                                                       \n",
            "                                                                                                  \n",
            " time_distributed_5 (TimeDi  (None, 104, 16)              0         ['time_distributed_4[0][0]']  \n",
            " stributed)                                                                                       \n",
            "                                                                                                  \n",
            " input_2 (InputLayer)        [(None, 104, 11)]            0         []                            \n",
            "                                                                                                  \n",
            " concatenate (Concatenate)   (None, 104, 27)              0         ['time_distributed_5[0][0]',  \n",
            "                                                                     'input_2[0][0]']             \n",
            "                                                                                                  \n",
            " time_distributed_6 (TimeDi  (None, 104, 16)              448       ['concatenate[0][0]']         \n",
            " stributed)                                                                                       \n",
            "                                                                                                  \n",
            " leaky_re_lu_4 (LeakyReLU)   (None, 104, 16)              0         ['time_distributed_6[0][0]']  \n",
            "                                                                                                  \n",
            " doprout_custom (doprout_cu  (None, 104, 16)              0         ['leaky_re_lu_4[0][0]']       \n",
            " stom)                                                                                            \n",
            "                                                                                                  \n",
            " lstm (LSTM)                 (None, 32)                   6272      ['doprout_custom[0][0]']      \n",
            "                                                                                                  \n",
            " dense_1 (Dense)             (None, 8)                    264       ['lstm[0][0]']                \n",
            "                                                                                                  \n",
            " dense_2 (Dense)             (None, 1)                    9         ['dense_1[0][0]']             \n",
            "                                                                                                  \n",
            "==================================================================================================\n",
            "Total params: 9705 (37.91 KB)\n",
            "Trainable params: 9705 (37.91 KB)\n",
            "Non-trainable params: 0 (0.00 Byte)\n",
            "__________________________________________________________________________________________________\n"
          ]
        }
      ],
      "source": [
        "tf.keras.backend.clear_session()\n",
        "kernel_regularization_lstm = 0.005\n",
        "perc_dropout_lstm = 0.15\n",
        "lstm_units = 32\n",
        "lstm_activation = \"leaky_relu\"\n",
        "\n",
        "exo_model_meteo_seq2val_time_dist_lstm = meteo_model_time_dist_dilated_lstm(output_neurons = 1,\n",
        "                                    lstm_units = lstm_units,\n",
        "                                    input_month_encodings = True,\n",
        "                                    past_meteorological_images = past_meteo_images,\n",
        "                                    lstm_activation = lstm_activation,\n",
        "                                    dropout = \"classic\",\n",
        "                                    perc_dropout = perc_dropout_lstm,\n",
        "                                    kernel_regularizer = tf.keras.regularizers.L2(kernel_regularization_lstm),\n",
        "                                    kernel_regularizer_lstm = tf.keras.regularizers.L2(kernel_regularization_lstm),\n",
        "                                    bias_regularizer = None,\n",
        "                                    bias_regularizer_lstm = None,\n",
        "                                    recurrent_regularizer_lstm = tf.keras.regularizers.L2(kernel_regularization_lstm))\n",
        "\n",
        "exo_model_meteo_seq2val_time_dist_lstm.summary()"
      ]
    },
    {
      "cell_type": "code",
      "execution_count": null,
      "metadata": {
        "id": "7iXfSOtr4xl4"
      },
      "outputs": [],
      "source": [
        "# Plot the architecture\n",
        "# keras.utils.plot_model(exo_model_meteo_seq2val_time_dist_lstm, to_file = f'{log_path}/exo_meteo_seq2val_time_distributed_LSTM.png')"
      ]
    },
    {
      "cell_type": "markdown",
      "metadata": {
        "id": "Qh1BCwMUyqMo"
      },
      "source": [
        "## Training"
      ]
    },
    {
      "cell_type": "markdown",
      "metadata": {
        "id": "GGkBV6eIMeDG"
      },
      "source": [
        "### Exogenous Seq2val models"
      ]
    },
    {
      "cell_type": "markdown",
      "metadata": {
        "id": "nTHnrRTm9vGK"
      },
      "source": [
        "#### Time distributed unpwavenet"
      ]
    },
    {
      "cell_type": "code",
      "execution_count": null,
      "metadata": {
        "id": "MuC8xktkKhKp"
      },
      "outputs": [],
      "source": [
        "batch = 8\n",
        "nepochs = 80\n",
        "lr = 0.001\n",
        "clipnorm = 1.0"
      ]
    },
    {
      "cell_type": "code",
      "execution_count": null,
      "metadata": {
        "id": "4bzjIVF_pZjU"
      },
      "outputs": [],
      "source": [
        "# Define the name of the logs and object to be saved\n",
        "base_name = f\"{focus_on_sensors}_{input_sequence_length}_time_dist_unpwavenet_{channels_dilated_conv}_{channels_1x1conv}\"\n",
        "print(base_name)\n",
        "model_folder_name = f\"{base_name}_lr{lr}_L2reg{kernel_regularization_unpwavenet}_CN{clipnorm}_{nepochs}_{batch}\"\n",
        "model_folder_name = \"GPU_\" + model_folder_name if gpu is True else model_folder_name\n",
        "print(model_folder_name)"
      ]
    },
    {
      "cell_type": "code",
      "execution_count": null,
      "metadata": {
        "id": "-7RM33GAKhKt"
      },
      "outputs": [],
      "source": [
        "# Compile the model\n",
        "logdir, filename_model, filename_weights, filename_hist =  setting_model(exo_model_meteo_seq2val_time_dist_unpwavenet,\n",
        "                  models_dir = log_path,\n",
        "                  optimizer = keras.optimizers.SGD(learning_rate=lr, momentum=0.9,  nesterov=True, clipnorm=clipnorm),\n",
        "                  new_folder_name = model_folder_name, initial_epoch = 0, logdir = None,\n",
        "                  loss = 'mean_squared_error', metrics = ['mean_squared_error'],\n",
        "                  model_name = base_name, history_name = base_name)"
      ]
    },
    {
      "cell_type": "code",
      "execution_count": null,
      "metadata": {
        "colab": {
          "base_uri": "https://localhost:8080/"
        },
        "id": "h_v7PGk-KhKt",
        "outputId": "63e699d2-63f9-449a-a226-1ac94bfd0a6b"
      },
      "outputs": [
        {
          "output_type": "execute_result",
          "data": {
            "text/plain": [
              "48879"
            ]
          },
          "metadata": {},
          "execution_count": 162
        }
      ],
      "source": [
        "gc.collect()"
      ]
    },
    {
      "cell_type": "code",
      "execution_count": null,
      "metadata": {
        "id": "Vq4WN0Lz3X3T",
        "colab": {
          "base_uri": "https://localhost:8080/"
        },
        "outputId": "afbf41aa-8e25-4aff-c7e5-3b727f65aa6e"
      },
      "outputs": [
        {
          "output_type": "stream",
          "name": "stdout",
          "text": [
            "The tensorboard extension is already loaded. To reload it, use:\n",
            "  %reload_ext tensorboard\n"
          ]
        }
      ],
      "source": [
        "%load_ext tensorboard"
      ]
    },
    {
      "cell_type": "code",
      "execution_count": null,
      "metadata": {
        "id": "9d-5YuWrPCtK"
      },
      "outputs": [],
      "source": [
        "tensorboard_callback = tf.keras.callbacks.TensorBoard(log_dir=logdir, histogram_freq=1)\n",
        "%tensorboard --logdir={logdir}"
      ]
    },
    {
      "cell_type": "code",
      "execution_count": null,
      "metadata": {
        "colab": {
          "base_uri": "https://localhost:8080/"
        },
        "id": "DLxKvaO-_Kwe",
        "outputId": "1f5f2832-a831-41b3-c1c3-0310bf817c2a"
      },
      "outputs": [
        {
          "output_type": "execute_result",
          "data": {
            "text/plain": [
              "2400"
            ]
          },
          "metadata": {},
          "execution_count": 164
        }
      ],
      "source": [
        "# For saving every 100 epochs (not needed if epochs left at 80)\n",
        "save_freq = math.ceil((len(water_table_depth_training_ds)/batch))*100;  save_freq"
      ]
    },
    {
      "cell_type": "code",
      "execution_count": null,
      "metadata": {
        "id": "gbXHOJXm_Kwf"
      },
      "outputs": [],
      "source": [
        "history_exo_model_meteo_seq2val_time_dist_unpwavenet = train_model(exo_model_meteo_seq2val_time_dist_unpwavenet,\n",
        "                x_train = [meteorological_training_input_sequences_normalized, month_OHE_training],\n",
        "                y_train = water_table_depth_training_normalized_values,\n",
        "                x_val = [meteorological_validation_input_sequences_normalized, month_OHE_validation],\n",
        "                y_val = water_table_depth_validation_normalized_values,\n",
        "                epochs = nepochs, batch_size = batch, initial_epoch = 0,\n",
        "                tensorboard_callback = tensorboard_callback,\n",
        "                filename_model = filename_model,\n",
        "                filename_weights = filename_weights,\n",
        "                filename_hist = filename_hist,\n",
        "                save = True,  save_freq = save_freq,\n",
        "                shuffle = True)"
      ]
    },
    {
      "cell_type": "markdown",
      "metadata": {
        "id": "gpgXEFET6k_Y"
      },
      "source": [
        "#### Time distributed LSTM"
      ]
    },
    {
      "cell_type": "code",
      "execution_count": null,
      "metadata": {
        "id": "FCSjrEzv8I8D"
      },
      "outputs": [],
      "source": [
        "batch = 8\n",
        "nepochs = 80\n",
        "lr = 0.001\n",
        "clipnorm = 1.0"
      ]
    },
    {
      "cell_type": "code",
      "execution_count": null,
      "metadata": {
        "colab": {
          "base_uri": "https://localhost:8080/"
        },
        "id": "KPckn5ylJZmH",
        "outputId": "892b1b22-7382-4310-fd63-f78b1b85e587"
      },
      "outputs": [
        {
          "name": "stdout",
          "output_type": "stream",
          "text": [
            "Racconigi_00417910001_2Y_time_dist_1LSTM_32_leaky_relu_BN_HeUniform\n",
            "Racconigi_00417910001_2Y_time_dist_1LSTM_32_leaky_relu_BN_HeUniform_lr0.0025_L2reg0.0025_CN0.5_64_8\n"
          ]
        }
      ],
      "source": [
        "# Define the name of the logs and object to be saved\n",
        "base_name = f\"{focus_on_sensors}_{input_sequence_length}_time_dist_1LSTM_{lstm_units}_{lstm_activation}\"\n",
        "print(base_name)\n",
        "model_folder_name = f\"{base_name}_lr{lr}_L2reg{kernel_regularization_lstm}_CN{clipnorm}_{nepochs}_{batch}\"\n",
        "model_folder_name = \"GPU_\" + model_folder_name if gpu is True else model_folder_name\n",
        "print(model_folder_name)"
      ]
    },
    {
      "cell_type": "code",
      "execution_count": null,
      "metadata": {
        "id": "dmrWyq7JJZmI"
      },
      "outputs": [],
      "source": [
        "# Compile the model\n",
        "logdir, filename_model, filename_weights, filename_hist =  setting_model(exo_model_meteo_seq2val_time_dist_lstm,\n",
        "                  models_dir = log_path,\n",
        "                  optimizer = tf.keras.optimizers.SGD(learning_rate=lr, momentum=0.9 , nesterov=True, clipnorm=clipnorm),\n",
        "                  new_folder_name = model_folder_name, initial_epoch = 0, logdir = None,\n",
        "                  loss = 'mean_squared_error', metrics = ['mean_squared_error'],\n",
        "                  model_name = base_name, history_name = base_name)"
      ]
    },
    {
      "cell_type": "code",
      "execution_count": null,
      "metadata": {
        "colab": {
          "base_uri": "https://localhost:8080/"
        },
        "id": "hwewQD0W6my0",
        "outputId": "5662dbcc-aaa8-45d3-a076-bfa76e9dae6b"
      },
      "outputs": [
        {
          "data": {
            "text/plain": [
              "40856"
            ]
          },
          "execution_count": 245,
          "metadata": {},
          "output_type": "execute_result"
        }
      ],
      "source": [
        "gc.collect()"
      ]
    },
    {
      "cell_type": "code",
      "execution_count": null,
      "metadata": {
        "id": "wimpem2-_RAc"
      },
      "outputs": [],
      "source": [
        "%load_ext tensorboard"
      ]
    },
    {
      "cell_type": "code",
      "execution_count": null,
      "metadata": {
        "id": "i4oCe1LJ6my1"
      },
      "outputs": [],
      "source": [
        "tensorboard_callback = tf.keras.callbacks.TensorBoard(log_dir=logdir, histogram_freq=1)\n",
        "%tensorboard --logdir={logdir}"
      ]
    },
    {
      "cell_type": "code",
      "execution_count": null,
      "metadata": {
        "id": "w6RvmIFR6my2"
      },
      "outputs": [],
      "source": [
        "# For saving every 100 epochs (not needed if epochs left at 80)\n",
        "save_freq = math.ceil((len(water_table_depth_training_ds)/batch))*100;  save_freq"
      ]
    },
    {
      "cell_type": "code",
      "execution_count": null,
      "metadata": {
        "id": "d4_pKEKT6my3"
      },
      "outputs": [],
      "source": [
        "history_exo_model_meteo_seq2val_time_dist_lstm = train_model(exo_model_meteo_seq2val_time_dist_lstm,\n",
        "                x_train = [meteorological_training_input_sequences_normalized, month_OHE_training],\n",
        "                y_train = water_table_depth_training_normalized_values,\n",
        "                x_val = [meteorological_validation_input_sequences_normalized, month_OHE_validation],\n",
        "                y_val = water_table_depth_validation_normalized_values,\n",
        "                epochs = nepochs, batch_size = batch, initial_epoch = 0,\n",
        "                tensorboard_callback = tensorboard_callback,\n",
        "                filename_model = filename_model,\n",
        "                filename_weights = filename_weights,\n",
        "                filename_hist = filename_hist,\n",
        "                save = True,  save_freq = save_freq)"
      ]
    },
    {
      "cell_type": "code",
      "execution_count": null,
      "metadata": {
        "colab": {
          "base_uri": "https://localhost:8080/"
        },
        "id": "xvgkJAYo6my3",
        "outputId": "0a2716dd-13db-4cad-fd34-fc6a83168708"
      },
      "outputs": [
        {
          "data": {
            "text/plain": [
              "1420"
            ]
          },
          "execution_count": 62,
          "metadata": {},
          "output_type": "execute_result"
        }
      ],
      "source": [
        "gc.collect()"
      ]
    },
    {
      "cell_type": "markdown",
      "metadata": {
        "id": "s8DZmlQ0xPyC"
      },
      "source": [
        "# Predictions and evaluations"
      ]
    },
    {
      "cell_type": "code",
      "execution_count": null,
      "metadata": {
        "id": "_2oPTLK1U7-M"
      },
      "outputs": [],
      "source": [
        "# For loading a pre-trained models:\n",
        "\n",
        "# class doprout_custom(tf.keras.layers.SpatialDropout1D):\n",
        "#       def call(self, inputs, training):\n",
        "#         return super().call(inputs, training)\n",
        "# exo_model_meteo_seq2val_time_dist_unpwavenet = keras.models.load_model('/.../model.keras',\n",
        "#                                                                   custom_objects={\"doprout_custom\": doprout_custom})\n",
        "\n",
        "# exo_model_meteo_seq2val_time_dist_lstm = keras.models.load_model('/.../model.keras',\n",
        "#                                                                    custom_objects={\"doprout_custom\": doprout_custom})"
      ]
    },
    {
      "cell_type": "code",
      "execution_count": null,
      "metadata": {
        "colab": {
          "base_uri": "https://localhost:8080/"
        },
        "id": "XBWjTkm8uI_B",
        "outputId": "7e832325-51be-410c-9196-e603cf4629fb"
      },
      "outputs": [
        {
          "output_type": "execute_result",
          "data": {
            "text/plain": [
              "1430"
            ]
          },
          "metadata": {},
          "execution_count": 168
        }
      ],
      "source": [
        "gc.collect()"
      ]
    },
    {
      "cell_type": "code",
      "execution_count": null,
      "metadata": {
        "id": "eN3PA84rW_O1"
      },
      "outputs": [],
      "source": [
        "model_names = [\"UnPWaveNet\"] # , \"UnPWaveNet\" \"LSTM\""
      ]
    },
    {
      "cell_type": "code",
      "execution_count": null,
      "metadata": {
        "id": "vZlQ-BpXXkNY"
      },
      "outputs": [],
      "source": [
        "model_colors = [\"tab:orange\"] # , \"tab:orange\" \"darkred\""
      ]
    },
    {
      "cell_type": "code",
      "execution_count": null,
      "metadata": {
        "id": "jEqMKxsmy5bp"
      },
      "outputs": [],
      "source": [
        "all_models = [exo_model_meteo_seq2val_time_dist_unpwavenet,\n",
        "              exo_model_meteo_seq2val_time_dist_lstm]"
      ]
    },
    {
      "cell_type": "code",
      "execution_count": null,
      "metadata": {
        "id": "QQYM6zqOFGOs"
      },
      "outputs": [],
      "source": [
        "# Build input and output object for each local model\n",
        "all_training_features = [[meteorological_training_input_sequences_normalized, month_OHE_training] for i in range(len(all_models))]\n",
        "all_validation_features = [[meteorological_validation_input_sequences_normalized, month_OHE_validation]  for i in range(len(all_models))]\n",
        "all_test_features = [[meteorological_test_input_sequences_normalized, month_OHE_test] for i in range(len(all_models))]"
      ]
    },
    {
      "cell_type": "code",
      "execution_count": null,
      "metadata": {
        "id": "o_3ZJgzZsh85"
      },
      "outputs": [],
      "source": [
        "# Make the predictions\n",
        "all_target_predictions_training = [all_models[i].predict(all_training_features[i]) for i in range(0,len(all_training_features))]\n",
        "all_target_predictions_validation = [all_models[i].predict(all_validation_features[i]) for i in range(0,len(all_validation_features))]\n",
        "all_target_predictions_test = [all_models[i].predict(all_test_features[i]) for i in range(0,len(all_test_features))]"
      ]
    },
    {
      "cell_type": "code",
      "execution_count": null,
      "metadata": {
        "id": "O7F6x_LXRzMc"
      },
      "outputs": [],
      "source": [
        "# Re-scale to the original range\n",
        "all_target_predictions_training = [(all_target_predictions_training[i] * water_table_depth_training_std)+ water_table_depth_training_mean for i in range(len(all_target_predictions_training))]\n",
        "all_target_predictions_validation = [(all_target_predictions_validation[i] * water_table_depth_training_std) + water_table_depth_training_mean for i in range(len(all_target_predictions_validation))]\n",
        "all_target_predictions_test = [(all_target_predictions_test[i] * water_table_depth_training_std) + water_table_depth_training_mean for i in range(len(all_target_predictions_test))]"
      ]
    },
    {
      "cell_type": "markdown",
      "metadata": {
        "id": "LqH_upy2sq4t"
      },
      "source": [
        "## Metrics\n",
        "\n",
        "Training"
      ]
    },
    {
      "cell_type": "code",
      "execution_count": null,
      "metadata": {
        "id": "5oLIuxRJ3R4J"
      },
      "outputs": [],
      "source": [
        "# Training evaluation metrics\n",
        "# Adopting mean computed on the training set\n",
        "\n",
        "train_rmse = [compute_RMSE(all_target_predictions_training[i],\n",
        "                           water_table_depth_training_values) for i in range(0,len(all_training_features))]\n",
        "\n",
        "train_NRMSE = [compute_NRMSE(predictions = all_target_predictions_training[i],\n",
        "                            truth = water_table_depth_training_values,\n",
        "                            normalization = \"range\", denominator = None) for i in range(0,len(all_training_features))]\n",
        "\n",
        "train_BIAS =  [compute_BIAS(predictions = all_target_predictions_training[i],\n",
        "                            truth = water_table_depth_training_values) for i in range(0,len(all_training_features))]\n",
        "\n",
        "train_NBIAS = [compute_NBIAS(predictions = all_target_predictions_training[i],\n",
        "                            truth = water_table_depth_training_values,\n",
        "                            max_value = None,\n",
        "                            min_value = None) for i in range(0,len(all_training_features))]\n",
        "\n",
        "train_MAPE = [compute_mape(predictions = all_target_predictions_training[i],\n",
        "                            truth = water_table_depth_training_values) for i in range(0,len(all_training_features))]\n",
        "\n",
        "train_NSE = [compute_nash_sutcliffe(predictions = all_target_predictions_training[i],\n",
        "                            truth = water_table_depth_training_values,\n",
        "                            truth_mean = None) for i in range(0,len(all_training_features))]\n",
        "\n",
        "train_kge = [compute_kge(predictions = all_target_predictions_training[i].flatten(),\n",
        "                            truth = water_table_depth_training_values.flatten(),\n",
        "                            truth_mean = None,\n",
        "                            truth_sd = None) for i in range(0,len(all_training_features))]\n",
        "\n",
        "print(\"Evaluation on training set\\n\")\n",
        "for i in range(0,len(all_training_features)):\n",
        "  print(\"Model: \", model_names[i])\n",
        "  print(\"RMSE: \" + str(round(train_rmse[i],3)))\n",
        "  print(\"NRMSE: \" + str(round(train_NRMSE[i],3)))\n",
        "  print(\"BIAS: \" + str(round(train_BIAS[i],3)))\n",
        "  print(\"NBIAS: \" + str(round(train_NBIAS[i],3)))\n",
        "  print(\"MAPE: \" + str(round(train_MAPE[i],3)))\n",
        "  print(\"NSE: \" + str(round(train_NSE[i],3)))\n",
        "  print(\"KGE: \" + str(round(train_kge[i],3)), end = \"\\n \\n\")"
      ]
    },
    {
      "cell_type": "markdown",
      "metadata": {
        "id": "OBBmVwt0WuuN"
      },
      "source": [
        "Test"
      ]
    },
    {
      "cell_type": "code",
      "execution_count": null,
      "metadata": {
        "id": "W9cqM2fv8nWP"
      },
      "outputs": [],
      "source": [
        "# Training evaluation metrics\n",
        "# Adopting mean computed on the training set\n",
        "test_rmse = [compute_RMSE(all_target_predictions_test[i],\n",
        "                           water_table_depth_test_values) for i in range(len(all_target_predictions_test))]\n",
        "\n",
        "\n",
        "test_NRMSE = [compute_NRMSE(predictions = all_target_predictions_test[i],\n",
        "                            truth = water_table_depth_test_values,\n",
        "                            normalization = \"range\",\n",
        "                            denominator = water_table_depth_training_values.max() - water_table_depth_training_values.min()) for i in range(len(all_target_predictions_test))]\n",
        "\n",
        "test_BIAS =  [compute_BIAS(predictions = all_target_predictions_test[i],\n",
        "                            truth = water_table_depth_test_values) for i in range(len(all_target_predictions_test))]\n",
        "\n",
        "test_NBIAS = [compute_NBIAS(predictions = all_target_predictions_test[i],\n",
        "                            truth = water_table_depth_test_values,\n",
        "                            max_value = water_table_depth_training_values.max(),\n",
        "                            min_value = water_table_depth_training_values.min()) for i in range(len(all_target_predictions_test))]\n",
        "\n",
        "test_MAPE = [compute_mape(predictions = all_target_predictions_test[i],\n",
        "                            truth = water_table_depth_test_values) for i in range(len(all_target_predictions_test))]\n",
        "\n",
        "test_NSE = [compute_nash_sutcliffe(predictions = all_target_predictions_test[i],\n",
        "                            truth = water_table_depth_test_values,\n",
        "                            truth_mean = water_table_depth_training_mean) for i in range(len(all_target_predictions_test))]\n",
        "\n",
        "test_kge = [compute_kge(predictions = all_target_predictions_test[i].flatten(),\n",
        "                            truth = water_table_depth_test_values.flatten(),\n",
        "                            truth_mean = water_table_depth_training_mean,\n",
        "                            truth_sd = compute_RMSE(water_table_depth_test_values,\n",
        "                                        water_table_depth_training_mean)) for i in range(len(all_target_predictions_test))]\n",
        "\n",
        "print(\"EVALUATIONS ON TEST SET:\\n\")\n",
        "for i in range(0,len(all_training_features)):\n",
        "  print(\"Model: \", model_names[i])\n",
        "  print(\"RMSE: \" + str(round(test_rmse[i],3)))\n",
        "  print(\"NRMSE: \" + str(round(test_NRMSE[i],3)))\n",
        "  print(\"BIAS: \" + str(round(test_BIAS[i],3)))\n",
        "  print(\"NBIAS: \" + str(round(test_NBIAS[i],3)))\n",
        "  print(\"MAPE: \" + str(round(test_MAPE[i],3)))\n",
        "  print(\"NSE: \" + str(round(test_NSE[i],3)))\n",
        "  print(\"KGE: \" + str(round(test_kge[i],3)), end = \"\\n \\n\")"
      ]
    },
    {
      "cell_type": "markdown",
      "metadata": {
        "id": "S1SuVPpY9exH"
      },
      "source": [
        "## Plots"
      ]
    },
    {
      "cell_type": "markdown",
      "metadata": {
        "id": "VVSc6fiurh8E"
      },
      "source": [
        "### Seq2Val"
      ]
    },
    {
      "cell_type": "code",
      "execution_count": null,
      "metadata": {
        "id": "oJkn5f3YrjcN"
      },
      "outputs": [],
      "source": [
        "plot_ts_with_gaps(y = water_table_depth_training_ds[\"Value\"].values, date = water_table_depth_training_ds[\"Date\"].values,\n",
        "                  title = sensor_municipality_id + \" Weekly Preidctions on Training Set\",  temp_freq = 'W',\n",
        "                  width = 10, height = 3, y_lim = 0.05, linewidth = 0.5, scatter = False,\n",
        "                  label_base_series = \"Water Table Depth [m]\",\n",
        "                  y_pred_list = all_target_predictions_training,\n",
        "                  model_names = [model_names[i] + \" [m]\" for i in range(len(model_names))],\n",
        "                  model_colors = model_colors,\n",
        "                  x_legend = 1.295,\n",
        "                  zoom = None,\n",
        "                  precipitations=weekly_mean_precipitations[\"prec\"].values,\n",
        "                  date_precipitations = weekly_mean_precipitations[\"Date\"].values)"
      ]
    },
    {
      "cell_type": "code",
      "execution_count": null,
      "metadata": {
        "id": "0tfhe_GF2Vso"
      },
      "outputs": [],
      "source": [
        "plot_ts_with_gaps(y = water_table_depth_training_ds[\"Value\"].values, date = water_table_depth_training_ds[\"Date\"].values,\n",
        "                  title = sensor_municipality_id + \" Weekly Preidctions on Training Set\",  temp_freq = 'W',\n",
        "                  width = 10, height = 3, y_lim = 0, linewidth = 0.5, scatter = False,\n",
        "                  label_base_series = \"Water Table Depth [m]\",\n",
        "                  y_pred_list = all_target_predictions_training,\n",
        "                  model_names = [model_names[i] + \" [m]\" for i in range(len(model_names))],\n",
        "                  model_colors = model_colors,\n",
        "                  x_legend = 1.295,\n",
        "                  zoom = [np.datetime64(\"2003-06-01\"),np.datetime64(\"2008-12-01\")],\n",
        "                  precipitations=weekly_mean_precipitations[\"prec\"].values,\n",
        "                  date_precipitations = weekly_mean_precipitations[\"Date\"].values)"
      ]
    },
    {
      "cell_type": "code",
      "execution_count": null,
      "metadata": {
        "id": "0AMx0zM1sEC5"
      },
      "outputs": [],
      "source": [
        "plot_ts_with_gaps(y = water_table_depth_validation_ds[\"Value\"].values, date = water_table_depth_validation_ds[\"Date\"].values,\n",
        "                  title = sensor_municipality_id + \" Weekly Preidctions on Validation Set\",  temp_freq = 'W',\n",
        "                  width = 7, height = 3, y_lim = 0.1, linewidth = 0.5, scatter = False,\n",
        "                  label_base_series = \"Water Table Depth [m]\",\n",
        "                  y_pred_list = all_target_predictions_validation,\n",
        "                  model_names = [model_names[i] + \" [m]\" for i in range(len(model_names))],\n",
        "                  model_colors = model_colors,\n",
        "                  x_legend = 1.45,\n",
        "                  xticks_freq = \"QS\",\n",
        "                  precipitations=weekly_mean_precipitations[\"prec\"].values,\n",
        "                  date_precipitations = weekly_mean_precipitations[\"Date\"].values)"
      ]
    },
    {
      "cell_type": "code",
      "execution_count": null,
      "metadata": {
        "id": "ZepckF0sWQFe"
      },
      "outputs": [],
      "source": [
        "plot_ts_with_gaps(y = water_table_depth_test_ds[\"Value\"].values, date = water_table_depth_test_ds[\"Date\"].values,\n",
        "                  title = sensor_municipality_id + \" Weekly Preidctions on Test Set\",  temp_freq = 'W',\n",
        "                  width = 7, height = 3, y_lim = 0.1, linewidth = 0.5, scatter = False,\n",
        "                  label_base_series = \"Water Table Depth [m]\",\n",
        "                  y_pred_list = all_target_predictions_test,\n",
        "                  model_names = [model_names[i] + \" [m]\" for i in range(len(model_names))],\n",
        "                  model_colors = model_colors,\n",
        "                  x_legend = 1.45,\n",
        "                  xticks_freq = \"QS\",\n",
        "                  precipitations=weekly_mean_precipitations[\"prec\"].values,\n",
        "                  date_precipitations = weekly_mean_precipitations[\"Date\"].values)"
      ]
    }
  ],
  "metadata": {
    "colab": {
      "provenance": [],
      "toc_visible": true
    },
    "kernelspec": {
      "display_name": "Python 3",
      "name": "python3"
    },
    "language_info": {
      "name": "python"
    }
  },
  "nbformat": 4,
  "nbformat_minor": 0
}